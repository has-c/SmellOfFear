{
 "cells": [
  {
   "cell_type": "code",
   "execution_count": 47,
   "metadata": {},
   "outputs": [],
   "source": [
    "import numpy as np\n",
    "import pandas as pd\n",
    "from math import trunc\n",
    "import pickle\n",
    "import copy\n",
    "import random\n",
    "from sklearn import metrics\n",
    "from sklearn.preprocessing import MinMaxScaler\n",
    "from sklearn.ensemble import RandomForestClassifier\n",
    "from sklearn.metrics import accuracy_score,precision_score\n",
    "\n",
    "import matplotlib.pyplot as plt\n",
    "%matplotlib inline"
   ]
  },
  {
   "cell_type": "code",
   "execution_count": 128,
   "metadata": {},
   "outputs": [],
   "source": [
    "#vocRounding is used to truncate the VOCs to 3dp allowing for flexible matching between 2013 and 2015 datasets\n",
    "def vocRounding(vocDf):\n",
    "    vocList = list()\n",
    "    for index in range(0, len(vocDf.columns)):\n",
    "        if vocDf.columns[index] == 'Time' or vocDf.columns[index] == 'ocs' or vocDf.columns[index] == 'co' or vocDf.columns[index] == 'CO2':\n",
    "            vocList.append(vocDf.columns[index])    \n",
    "        else:\n",
    "            #string slice to get the molar mass\n",
    "            voc = vocDf.columns[index]\n",
    "            mass = (trunc(float(voc[1:])*1000))/1000 #TRUNCATE TO 3DP\n",
    "            vocList.append(mass)\n",
    "    return vocList\n",
    "\n",
    "#generate normalised screenings\n",
    "#remove invalid screenings (divide by NaN or divide by 0)\n",
    "#scale vocs between 0 and 1\n",
    "def generateNormalisedScreenings(sliceDict, vocData):\n",
    "    screeningList = list()\n",
    "    matchedMovies = list()\n",
    "    for index in range(0,sliceDict['sliceDf'].shape[0]):\n",
    "        start,end = sliceDict['sliceDf'].loc[index]\n",
    "        screening = vocData[start:end+1]\n",
    "        normalisedFrame = copy.deepcopy(screening)\n",
    "        if max(normalisedFrame.values) != 0 and not(np.isnan(max(normalisedFrame.values))):\n",
    "            normalisedFrame = normalisedFrame.values.reshape(-1,1)\n",
    "            scaler = MinMaxScaler()\n",
    "            normalisedFrame = scaler.fit_transform(normalisedFrame)\n",
    "            normalisedFrame = np.transpose(normalisedFrame)\n",
    "            screeningList.append(normalisedFrame)\n",
    "            matchedMovies.append(sliceDict['matchedMovies'][index])\n",
    "    return screeningList, matchedMovies\n",
    "\n",
    "#train test split - one movie is left out for the test set \n",
    "def movieTrainTestSplit(movieList,matchedMovies,screeningList):\n",
    "    \n",
    "    testScreeningList = list()\n",
    "    testMovieList = list()\n",
    "    testMovie = movieList[random.randint(0, len(movieList)-1)] #pick random test movie \n",
    "    while True:\n",
    "        try:\n",
    "            matchedIndex = matchedMovies.index(testMovie)\n",
    "            screening = screeningList.pop(matchedIndex)\n",
    "            testScreeningList.append(screening)\n",
    "            matchedMovie = matchedMovies.pop(matchedIndex)\n",
    "            testMovieList.append(testMovie)\n",
    "        except ValueError:\n",
    "            break\n",
    "    \n",
    "    return testScreeningList,testMovieList,screeningList,matchedMovies\n",
    "\n",
    "\n",
    "def inputOutputDf(screeningList):\n",
    "    \n",
    "    #input - 9 vocs\n",
    "    #output - 1 voc \n",
    "    \n",
    "    deltaDf = np.array([])\n",
    "    inputDf = np.array([])\n",
    "    info = np.array([])\n",
    "    for screening in screeningList:\n",
    "        \n",
    "        #Calculate deltas\n",
    "        percentageChange = np.array([(screening[0,x+1] - screening[0,x])/screening[0,x] for x in range(8,screening.shape[1]-1)])\n",
    "        percentageChange[np.isinf(percentageChange)] = 0\n",
    "        #get categorical values\n",
    "        # 1 up\n",
    "        # 0 no change\n",
    "        # -1 down\n",
    "        outputLabels = categoricalValues(percentageChange)\n",
    "        \n",
    "        #AR VOC Input\n",
    "        screening = screening[0] #remove the 1st dimension\n",
    "        listOfInstances = [screening[x:x+9] for x in range(0,len(screening))]\n",
    "        inputDf = np.array([])\n",
    "        for instance in listOfInstances:\n",
    "            if len(instance) == 9:\n",
    "                if inputDf.size == 0:\n",
    "                    inputDf = instance\n",
    "                else:\n",
    "                    inputDf = np.vstack((inputDf,instance))\n",
    "\n",
    "        #add labels to the output\n",
    "        #cut off last row (as cannot predict it)\n",
    "        inputDf = inputDf[:-1]\n",
    "\n",
    "        #connect the input to output\n",
    "        if info.size == 0: \n",
    "            info = np.hstack((inputDf,np.expand_dims(outputLabels, axis=1)))\n",
    "        else:\n",
    "            instance = np.hstack((inputDf,np.expand_dims(outputLabels, axis=1)))\n",
    "            info = np.vstack((info,instance))\n",
    "\n",
    "    return info\n",
    "\n",
    "def categoricalValues(percentageChange):\n",
    "\n",
    "    percentageChangeFlatUpperLimit = 0.02\n",
    "    percentageChangeFlatLowerLimit = -0.02\n",
    "    # calculate percetange change between 2 values to get the output label\n",
    "    #categories - 'no change', 'up', 'down'\n",
    "    #up = 1\n",
    "    #down = -1\n",
    "    #no change = 0\n",
    "\n",
    "    outputLabels = np.zeros(percentageChange.shape[0])\n",
    "    #up category\n",
    "    upMask = np.greater_equal(percentageChange, percentageChangeFlatUpperLimit)\n",
    "    outputLabels[upMask] = 1\n",
    "    #down category\n",
    "    downMask = np.less_equal(percentageChange, percentageChangeFlatLowerLimit)\n",
    "    outputLabels[downMask] = -1\n",
    "    \n",
    "    return outputLabels\n",
    "\n",
    "def ClassificationModel(featuresTrain,labelsTrain, labelsTest,featuresTest):\n",
    "    print('Train Model')\n",
    "    clf = RandomForestClassifier(n_estimators=100)\n",
    "    clf.fit(featuresTrain, labelsTrain)  \n",
    "    \n",
    "    print('Test Model')\n",
    "    predictedLabels = clf.predict(featuresTest)\n",
    "    \n",
    "    #compute accuracy and precision\n",
    "    precisionScore = precision_score(labelsTest, predictedLabels, average='micro')\n",
    "    accuracyScore = accuracy_score(labelsTest, predictedLabels)\n",
    "    \n",
    "    return precisionScore,accuracyScore"
   ]
  },
  {
   "cell_type": "code",
   "execution_count": 102,
   "metadata": {},
   "outputs": [],
   "source": [
    "#CREATE VOC DF\n",
    "\n",
    "#import various numeric csvs\n",
    "vocPath = 'Numerical Data/2013VOCData.csv'\n",
    "voc2013DfAll = pd.read_csv(vocPath, header = 0, nrows = 74208, low_memory=False)\n",
    "movieScreeningsPath = 'Numerical Data/screening_times.csv'\n",
    "movingScreeningsDf = pd.read_csv(movieScreeningsPath, usecols = ['scheduled','movie','filled %'])\n",
    "movieRuntimesPath = 'Numerical Data/movie_runtimes.csv'\n",
    "movieRuntimeDf = pd.read_csv(movieRuntimesPath, usecols = ['movie', 'runtime (mins)', 'effective runtime'])\n",
    "#2015 Dataset\n",
    "starWarsPath = 'Numerical Data/Star Wars-The Force Awakens.csv'\n",
    "starWarsScreeningDf = pd.read_csv(starWarsPath)\n",
    "imOffThenPath = 'Numerical Data/I\\'m Off Then.csv'\n",
    "imOffThenScreeningDf = pd.read_csv(imOffThenPath)\n",
    "helpIShrunkTheTeacherPath = 'Numerical Data/Help, I Shrunk My Teacher.csv'\n",
    "helpIShrunkTheTeacherScreeningDf = pd.read_csv(helpIShrunkTheTeacherPath)\n",
    "vocPath = 'Numerical Data/2015VOCData.csv'\n",
    "voc2015DfAll = pd.read_csv(vocPath)\n",
    "#remove first column of 2015 voc df as its not used\n",
    "voc2015DfAll.drop(\"Unnamed: 0\", axis=1, inplace=True)\n",
    "\n",
    "#full list of movies\n",
    "movieList = list(movieRuntimeDf['movie'])\n",
    "\n",
    "\n",
    "#import the slicing indices\n",
    "slicePath = 'Pickle Objects/VocSlices.p'\n",
    "sliceDict = pickle.load(open(slicePath, \"rb\" )) #contains df of co2 slice indices and matched movie list\n",
    "\n",
    "#round the vocs\n",
    "voc2015Col = vocRounding(voc2015DfAll)\n",
    "voc2013Col = vocRounding(voc2013DfAll)\n",
    "voc2013Df = copy.deepcopy(voc2013DfAll)\n",
    "voc2015Df = copy.deepcopy(voc2015DfAll)\n",
    "voc2013Df.columns = voc2013Col\n",
    "voc2015Df.columns = voc2015Col\n",
    "\n",
    "#rearrange dataframe to be able to merge them successfully\n",
    "voc = voc2015Df.columns[1:]\n",
    "voc2015Df = pd.DataFrame(np.transpose(voc2015Df.values)[1:,:], columns =voc2015Df['Time'])\n",
    "voc2015Df['voc'] = voc\n",
    "voc = index=voc2013Df.columns[1:]\n",
    "voc2013Df = pd.DataFrame(np.transpose(voc2013Df.values)[1:,:], columns =voc2013Df['Time'])\n",
    "voc2013Df['voc'] = voc\n",
    "\n",
    "#join the two voc dataframes (join on the 2013 dataframe)\n",
    "vocDf = pd.merge(voc2013Df, voc2015Df, how='inner', on=['voc'])\n",
    "#drop voc column\n",
    "vocColumn = vocDf['voc']\n",
    "vocDf.drop(\"voc\", axis=1, inplace=True)\n",
    "\n",
    "\n",
    "#reorientate the vocDf, note need to convert all vocs to float\n",
    "vocDf = pd.DataFrame(np.transpose(vocDf.values.astype(float)), columns=vocColumn)"
   ]
  },
  {
   "cell_type": "code",
   "execution_count": null,
   "metadata": {},
   "outputs": [
    {
     "name": "stdout",
     "output_type": "stream",
     "text": [
      "Iteration:  0\n",
      "CO2\n",
      "Process Data\n"
     ]
    },
    {
     "name": "stderr",
     "output_type": "stream",
     "text": [
      "/home/sof/.local/lib/python3.6/site-packages/ipykernel_launcher.py:63: RuntimeWarning: divide by zero encountered in double_scalars\n"
     ]
    },
    {
     "name": "stdout",
     "output_type": "stream",
     "text": [
      "Run classifier\n",
      "Train Model\n",
      "Test Model\n",
      "Iteration:  1\n",
      "CO2\n",
      "Process Data\n"
     ]
    },
    {
     "name": "stderr",
     "output_type": "stream",
     "text": [
      "/home/sof/.local/lib/python3.6/site-packages/ipykernel_launcher.py:63: RuntimeWarning: divide by zero encountered in double_scalars\n"
     ]
    },
    {
     "name": "stdout",
     "output_type": "stream",
     "text": [
      "Run classifier\n",
      "Train Model\n",
      "Test Model\n",
      "Iteration:  2\n",
      "CO2\n",
      "Process Data\n"
     ]
    },
    {
     "name": "stderr",
     "output_type": "stream",
     "text": [
      "/home/sof/.local/lib/python3.6/site-packages/ipykernel_launcher.py:63: RuntimeWarning: divide by zero encountered in double_scalars\n"
     ]
    },
    {
     "name": "stdout",
     "output_type": "stream",
     "text": [
      "Run classifier\n",
      "Train Model\n",
      "Test Model\n",
      "Iteration:  3\n",
      "CO2\n",
      "Process Data\n"
     ]
    },
    {
     "name": "stderr",
     "output_type": "stream",
     "text": [
      "/home/sof/.local/lib/python3.6/site-packages/ipykernel_launcher.py:63: RuntimeWarning: divide by zero encountered in double_scalars\n"
     ]
    },
    {
     "name": "stdout",
     "output_type": "stream",
     "text": [
      "Run classifier\n",
      "Train Model\n",
      "Test Model\n",
      "Iteration:  4\n",
      "CO2\n",
      "Process Data\n"
     ]
    },
    {
     "name": "stderr",
     "output_type": "stream",
     "text": [
      "/home/sof/.local/lib/python3.6/site-packages/ipykernel_launcher.py:63: RuntimeWarning: divide by zero encountered in double_scalars\n"
     ]
    },
    {
     "name": "stdout",
     "output_type": "stream",
     "text": [
      "Run classifier\n",
      "Train Model\n",
      "Test Model\n",
      "Iteration:  5\n",
      "CO2\n",
      "Process Data\n"
     ]
    },
    {
     "name": "stderr",
     "output_type": "stream",
     "text": [
      "/home/sof/.local/lib/python3.6/site-packages/ipykernel_launcher.py:63: RuntimeWarning: divide by zero encountered in double_scalars\n"
     ]
    },
    {
     "name": "stdout",
     "output_type": "stream",
     "text": [
      "Run classifier\n",
      "Train Model\n",
      "Test Model\n",
      "Iteration:  6\n",
      "CO2\n",
      "Process Data\n"
     ]
    },
    {
     "name": "stderr",
     "output_type": "stream",
     "text": [
      "/home/sof/.local/lib/python3.6/site-packages/ipykernel_launcher.py:63: RuntimeWarning: divide by zero encountered in double_scalars\n"
     ]
    },
    {
     "name": "stdout",
     "output_type": "stream",
     "text": [
      "Run classifier\n",
      "Train Model\n",
      "Test Model\n",
      "Iteration:  7\n",
      "CO2\n",
      "Process Data\n"
     ]
    },
    {
     "name": "stderr",
     "output_type": "stream",
     "text": [
      "/home/sof/.local/lib/python3.6/site-packages/ipykernel_launcher.py:63: RuntimeWarning: divide by zero encountered in double_scalars\n"
     ]
    },
    {
     "name": "stdout",
     "output_type": "stream",
     "text": [
      "Run classifier\n",
      "Train Model\n",
      "Test Model\n",
      "Iteration:  8\n",
      "CO2\n",
      "Process Data\n"
     ]
    },
    {
     "name": "stderr",
     "output_type": "stream",
     "text": [
      "/home/sof/.local/lib/python3.6/site-packages/ipykernel_launcher.py:63: RuntimeWarning: divide by zero encountered in double_scalars\n"
     ]
    },
    {
     "name": "stdout",
     "output_type": "stream",
     "text": [
      "Run classifier\n",
      "Train Model\n",
      "Test Model\n",
      "Iteration:  9\n",
      "CO2\n",
      "Process Data\n"
     ]
    },
    {
     "name": "stderr",
     "output_type": "stream",
     "text": [
      "/home/sof/.local/lib/python3.6/site-packages/ipykernel_launcher.py:63: RuntimeWarning: divide by zero encountered in double_scalars\n"
     ]
    },
    {
     "name": "stdout",
     "output_type": "stream",
     "text": [
      "Run classifier\n",
      "Train Model\n",
      "Test Model\n",
      "Iteration:  10\n",
      "CO2\n",
      "Process Data\n"
     ]
    },
    {
     "name": "stderr",
     "output_type": "stream",
     "text": [
      "/home/sof/.local/lib/python3.6/site-packages/ipykernel_launcher.py:63: RuntimeWarning: divide by zero encountered in double_scalars\n"
     ]
    },
    {
     "name": "stdout",
     "output_type": "stream",
     "text": [
      "Run classifier\n",
      "Train Model\n",
      "Test Model\n",
      "Iteration:  11\n",
      "CO2\n",
      "Process Data\n"
     ]
    },
    {
     "name": "stderr",
     "output_type": "stream",
     "text": [
      "/home/sof/.local/lib/python3.6/site-packages/ipykernel_launcher.py:63: RuntimeWarning: divide by zero encountered in double_scalars\n"
     ]
    },
    {
     "name": "stdout",
     "output_type": "stream",
     "text": [
      "Run classifier\n",
      "Train Model\n",
      "Test Model\n",
      "Iteration:  12\n",
      "CO2\n",
      "Process Data\n"
     ]
    },
    {
     "name": "stderr",
     "output_type": "stream",
     "text": [
      "/home/sof/.local/lib/python3.6/site-packages/ipykernel_launcher.py:63: RuntimeWarning: divide by zero encountered in double_scalars\n"
     ]
    },
    {
     "name": "stdout",
     "output_type": "stream",
     "text": [
      "Run classifier\n",
      "Train Model\n",
      "Test Model\n",
      "Iteration:  13\n",
      "CO2\n",
      "Process Data\n"
     ]
    },
    {
     "name": "stderr",
     "output_type": "stream",
     "text": [
      "/home/sof/.local/lib/python3.6/site-packages/ipykernel_launcher.py:63: RuntimeWarning: divide by zero encountered in double_scalars\n"
     ]
    },
    {
     "name": "stdout",
     "output_type": "stream",
     "text": [
      "Run classifier\n",
      "Train Model\n",
      "Test Model\n",
      "Iteration:  14\n",
      "CO2\n",
      "Process Data\n"
     ]
    },
    {
     "name": "stderr",
     "output_type": "stream",
     "text": [
      "/home/sof/.local/lib/python3.6/site-packages/ipykernel_launcher.py:63: RuntimeWarning: divide by zero encountered in double_scalars\n"
     ]
    },
    {
     "name": "stdout",
     "output_type": "stream",
     "text": [
      "Run classifier\n",
      "Train Model\n",
      "Test Model\n",
      "Iteration:  15\n",
      "CO2\n",
      "Process Data\n"
     ]
    },
    {
     "name": "stderr",
     "output_type": "stream",
     "text": [
      "/home/sof/.local/lib/python3.6/site-packages/ipykernel_launcher.py:63: RuntimeWarning: divide by zero encountered in double_scalars\n"
     ]
    },
    {
     "name": "stdout",
     "output_type": "stream",
     "text": [
      "Run classifier\n",
      "Train Model\n",
      "Test Model\n",
      "Iteration:  16\n",
      "CO2\n",
      "Process Data\n"
     ]
    },
    {
     "name": "stderr",
     "output_type": "stream",
     "text": [
      "/home/sof/.local/lib/python3.6/site-packages/ipykernel_launcher.py:63: RuntimeWarning: divide by zero encountered in double_scalars\n"
     ]
    },
    {
     "name": "stdout",
     "output_type": "stream",
     "text": [
      "Run classifier\n",
      "Train Model\n",
      "Test Model\n",
      "Iteration:  17\n",
      "CO2\n",
      "Process Data\n"
     ]
    },
    {
     "name": "stderr",
     "output_type": "stream",
     "text": [
      "/home/sof/.local/lib/python3.6/site-packages/ipykernel_launcher.py:63: RuntimeWarning: divide by zero encountered in double_scalars\n"
     ]
    },
    {
     "name": "stdout",
     "output_type": "stream",
     "text": [
      "Run classifier\n",
      "Train Model\n",
      "Test Model\n",
      "Iteration:  18\n",
      "CO2\n",
      "Process Data\n"
     ]
    },
    {
     "name": "stderr",
     "output_type": "stream",
     "text": [
      "/home/sof/.local/lib/python3.6/site-packages/ipykernel_launcher.py:63: RuntimeWarning: divide by zero encountered in double_scalars\n"
     ]
    },
    {
     "name": "stdout",
     "output_type": "stream",
     "text": [
      "Run classifier\n",
      "Train Model\n",
      "Test Model\n",
      "Iteration:  19\n",
      "CO2\n",
      "Process Data\n"
     ]
    },
    {
     "name": "stderr",
     "output_type": "stream",
     "text": [
      "/home/sof/.local/lib/python3.6/site-packages/ipykernel_launcher.py:63: RuntimeWarning: divide by zero encountered in double_scalars\n"
     ]
    },
    {
     "name": "stdout",
     "output_type": "stream",
     "text": [
      "Run classifier\n",
      "Train Model\n",
      "Test Model\n",
      "Iteration:  20\n",
      "CO2\n",
      "Process Data\n"
     ]
    },
    {
     "name": "stderr",
     "output_type": "stream",
     "text": [
      "/home/sof/.local/lib/python3.6/site-packages/ipykernel_launcher.py:63: RuntimeWarning: divide by zero encountered in double_scalars\n"
     ]
    },
    {
     "name": "stdout",
     "output_type": "stream",
     "text": [
      "Run classifier\n",
      "Train Model\n",
      "Test Model\n",
      "Iteration:  21\n",
      "CO2\n",
      "Process Data\n"
     ]
    },
    {
     "name": "stderr",
     "output_type": "stream",
     "text": [
      "/home/sof/.local/lib/python3.6/site-packages/ipykernel_launcher.py:63: RuntimeWarning: divide by zero encountered in double_scalars\n"
     ]
    },
    {
     "name": "stdout",
     "output_type": "stream",
     "text": [
      "Run classifier\n",
      "Train Model\n",
      "Test Model\n",
      "Iteration:  22\n",
      "CO2\n",
      "Process Data\n"
     ]
    },
    {
     "name": "stderr",
     "output_type": "stream",
     "text": [
      "/home/sof/.local/lib/python3.6/site-packages/ipykernel_launcher.py:63: RuntimeWarning: divide by zero encountered in double_scalars\n"
     ]
    },
    {
     "name": "stdout",
     "output_type": "stream",
     "text": [
      "Run classifier\n",
      "Train Model\n",
      "Test Model\n",
      "Iteration:  23\n",
      "CO2\n",
      "Process Data\n"
     ]
    },
    {
     "name": "stderr",
     "output_type": "stream",
     "text": [
      "/home/sof/.local/lib/python3.6/site-packages/ipykernel_launcher.py:63: RuntimeWarning: divide by zero encountered in double_scalars\n"
     ]
    },
    {
     "name": "stdout",
     "output_type": "stream",
     "text": [
      "Run classifier\n",
      "Train Model\n",
      "Test Model\n",
      "Iteration:  24\n",
      "CO2\n",
      "Process Data\n"
     ]
    },
    {
     "name": "stderr",
     "output_type": "stream",
     "text": [
      "/home/sof/.local/lib/python3.6/site-packages/ipykernel_launcher.py:63: RuntimeWarning: divide by zero encountered in double_scalars\n"
     ]
    },
    {
     "name": "stdout",
     "output_type": "stream",
     "text": [
      "Run classifier\n",
      "Train Model\n",
      "Test Model\n",
      "Iteration:  25\n",
      "CO2\n",
      "Process Data\n"
     ]
    },
    {
     "name": "stderr",
     "output_type": "stream",
     "text": [
      "/home/sof/.local/lib/python3.6/site-packages/ipykernel_launcher.py:63: RuntimeWarning: divide by zero encountered in double_scalars\n"
     ]
    },
    {
     "name": "stdout",
     "output_type": "stream",
     "text": [
      "Run classifier\n",
      "Train Model\n",
      "Test Model\n",
      "Iteration:  26\n",
      "CO2\n",
      "Process Data\n"
     ]
    },
    {
     "name": "stderr",
     "output_type": "stream",
     "text": [
      "/home/sof/.local/lib/python3.6/site-packages/ipykernel_launcher.py:63: RuntimeWarning: divide by zero encountered in double_scalars\n"
     ]
    },
    {
     "name": "stdout",
     "output_type": "stream",
     "text": [
      "Run classifier\n",
      "Train Model\n",
      "Test Model\n",
      "Iteration:  27\n",
      "CO2\n",
      "Process Data\n"
     ]
    },
    {
     "name": "stderr",
     "output_type": "stream",
     "text": [
      "/home/sof/.local/lib/python3.6/site-packages/ipykernel_launcher.py:63: RuntimeWarning: divide by zero encountered in double_scalars\n"
     ]
    },
    {
     "name": "stdout",
     "output_type": "stream",
     "text": [
      "Run classifier\n",
      "Train Model\n",
      "Test Model\n",
      "Iteration:  28\n",
      "CO2\n",
      "Process Data\n"
     ]
    },
    {
     "name": "stderr",
     "output_type": "stream",
     "text": [
      "/home/sof/.local/lib/python3.6/site-packages/ipykernel_launcher.py:63: RuntimeWarning: divide by zero encountered in double_scalars\n"
     ]
    },
    {
     "name": "stdout",
     "output_type": "stream",
     "text": [
      "Run classifier\n",
      "Train Model\n",
      "Test Model\n",
      "Iteration:  29\n",
      "CO2\n",
      "Process Data\n"
     ]
    },
    {
     "name": "stderr",
     "output_type": "stream",
     "text": [
      "/home/sof/.local/lib/python3.6/site-packages/ipykernel_launcher.py:63: RuntimeWarning: divide by zero encountered in double_scalars\n"
     ]
    },
    {
     "name": "stdout",
     "output_type": "stream",
     "text": [
      "Run classifier\n",
      "Train Model\n",
      "Test Model\n",
      "Iteration:  30\n",
      "CO2\n",
      "Process Data\n"
     ]
    },
    {
     "name": "stderr",
     "output_type": "stream",
     "text": [
      "/home/sof/.local/lib/python3.6/site-packages/ipykernel_launcher.py:63: RuntimeWarning: divide by zero encountered in double_scalars\n"
     ]
    },
    {
     "name": "stdout",
     "output_type": "stream",
     "text": [
      "Run classifier\n",
      "Train Model\n",
      "Test Model\n",
      "Iteration:  31\n",
      "CO2\n",
      "Process Data\n"
     ]
    },
    {
     "name": "stderr",
     "output_type": "stream",
     "text": [
      "/home/sof/.local/lib/python3.6/site-packages/ipykernel_launcher.py:63: RuntimeWarning: divide by zero encountered in double_scalars\n"
     ]
    },
    {
     "name": "stdout",
     "output_type": "stream",
     "text": [
      "Run classifier\n",
      "Train Model\n",
      "Test Model\n",
      "Iteration:  32\n",
      "CO2\n",
      "Process Data\n"
     ]
    },
    {
     "name": "stderr",
     "output_type": "stream",
     "text": [
      "/home/sof/.local/lib/python3.6/site-packages/ipykernel_launcher.py:63: RuntimeWarning: divide by zero encountered in double_scalars\n"
     ]
    },
    {
     "name": "stdout",
     "output_type": "stream",
     "text": [
      "Run classifier\n",
      "Train Model\n",
      "Test Model\n",
      "Iteration:  33\n",
      "CO2\n",
      "Process Data\n"
     ]
    },
    {
     "name": "stderr",
     "output_type": "stream",
     "text": [
      "/home/sof/.local/lib/python3.6/site-packages/ipykernel_launcher.py:63: RuntimeWarning: divide by zero encountered in double_scalars\n"
     ]
    },
    {
     "name": "stdout",
     "output_type": "stream",
     "text": [
      "Run classifier\n",
      "Train Model\n",
      "Test Model\n",
      "Iteration:  34\n",
      "CO2\n",
      "Process Data\n"
     ]
    },
    {
     "name": "stderr",
     "output_type": "stream",
     "text": [
      "/home/sof/.local/lib/python3.6/site-packages/ipykernel_launcher.py:63: RuntimeWarning: divide by zero encountered in double_scalars\n"
     ]
    },
    {
     "name": "stdout",
     "output_type": "stream",
     "text": [
      "Run classifier\n",
      "Train Model\n",
      "Test Model\n",
      "Iteration:  35\n",
      "CO2\n",
      "Process Data\n"
     ]
    },
    {
     "name": "stderr",
     "output_type": "stream",
     "text": [
      "/home/sof/.local/lib/python3.6/site-packages/ipykernel_launcher.py:63: RuntimeWarning: divide by zero encountered in double_scalars\n"
     ]
    },
    {
     "name": "stdout",
     "output_type": "stream",
     "text": [
      "Run classifier\n",
      "Train Model\n",
      "Test Model\n",
      "Iteration:  36\n",
      "CO2\n",
      "Process Data\n"
     ]
    },
    {
     "name": "stderr",
     "output_type": "stream",
     "text": [
      "/home/sof/.local/lib/python3.6/site-packages/ipykernel_launcher.py:63: RuntimeWarning: divide by zero encountered in double_scalars\n"
     ]
    },
    {
     "name": "stdout",
     "output_type": "stream",
     "text": [
      "Run classifier\n",
      "Train Model\n",
      "Test Model\n",
      "Iteration:  37\n",
      "CO2\n",
      "Process Data\n"
     ]
    },
    {
     "name": "stderr",
     "output_type": "stream",
     "text": [
      "/home/sof/.local/lib/python3.6/site-packages/ipykernel_launcher.py:63: RuntimeWarning: divide by zero encountered in double_scalars\n"
     ]
    },
    {
     "name": "stdout",
     "output_type": "stream",
     "text": [
      "Run classifier\n",
      "Train Model\n",
      "Test Model\n",
      "Iteration:  38\n",
      "CO2\n",
      "Process Data\n"
     ]
    },
    {
     "name": "stderr",
     "output_type": "stream",
     "text": [
      "/home/sof/.local/lib/python3.6/site-packages/ipykernel_launcher.py:63: RuntimeWarning: divide by zero encountered in double_scalars\n"
     ]
    },
    {
     "name": "stdout",
     "output_type": "stream",
     "text": [
      "Run classifier\n",
      "Train Model\n",
      "Test Model\n",
      "Iteration:  39\n",
      "CO2\n",
      "Process Data\n"
     ]
    },
    {
     "name": "stderr",
     "output_type": "stream",
     "text": [
      "/home/sof/.local/lib/python3.6/site-packages/ipykernel_launcher.py:63: RuntimeWarning: divide by zero encountered in double_scalars\n"
     ]
    },
    {
     "name": "stdout",
     "output_type": "stream",
     "text": [
      "Run classifier\n",
      "Train Model\n",
      "Test Model\n",
      "Iteration:  40\n",
      "CO2\n",
      "Process Data\n"
     ]
    },
    {
     "name": "stderr",
     "output_type": "stream",
     "text": [
      "/home/sof/.local/lib/python3.6/site-packages/ipykernel_launcher.py:63: RuntimeWarning: divide by zero encountered in double_scalars\n"
     ]
    },
    {
     "name": "stdout",
     "output_type": "stream",
     "text": [
      "Run classifier\n",
      "Train Model\n",
      "Test Model\n",
      "Iteration:  41\n",
      "CO2\n",
      "Process Data\n"
     ]
    },
    {
     "name": "stderr",
     "output_type": "stream",
     "text": [
      "/home/sof/.local/lib/python3.6/site-packages/ipykernel_launcher.py:63: RuntimeWarning: divide by zero encountered in double_scalars\n"
     ]
    },
    {
     "name": "stdout",
     "output_type": "stream",
     "text": [
      "Run classifier\n",
      "Train Model\n",
      "Test Model\n",
      "Iteration:  42\n",
      "CO2\n",
      "Process Data\n"
     ]
    },
    {
     "name": "stderr",
     "output_type": "stream",
     "text": [
      "/home/sof/.local/lib/python3.6/site-packages/ipykernel_launcher.py:63: RuntimeWarning: divide by zero encountered in double_scalars\n"
     ]
    },
    {
     "name": "stdout",
     "output_type": "stream",
     "text": [
      "Run classifier\n",
      "Train Model\n",
      "Test Model\n",
      "Iteration:  43\n",
      "CO2\n",
      "Process Data\n"
     ]
    },
    {
     "name": "stderr",
     "output_type": "stream",
     "text": [
      "/home/sof/.local/lib/python3.6/site-packages/ipykernel_launcher.py:63: RuntimeWarning: divide by zero encountered in double_scalars\n"
     ]
    },
    {
     "name": "stdout",
     "output_type": "stream",
     "text": [
      "Run classifier\n",
      "Train Model\n",
      "Test Model\n",
      "Iteration:  44\n",
      "CO2\n",
      "Process Data\n"
     ]
    },
    {
     "name": "stderr",
     "output_type": "stream",
     "text": [
      "/home/sof/.local/lib/python3.6/site-packages/ipykernel_launcher.py:63: RuntimeWarning: divide by zero encountered in double_scalars\n"
     ]
    },
    {
     "name": "stdout",
     "output_type": "stream",
     "text": [
      "Run classifier\n",
      "Train Model\n",
      "Test Model\n",
      "Iteration:  45\n",
      "CO2\n",
      "Process Data\n"
     ]
    },
    {
     "name": "stderr",
     "output_type": "stream",
     "text": [
      "/home/sof/.local/lib/python3.6/site-packages/ipykernel_launcher.py:63: RuntimeWarning: divide by zero encountered in double_scalars\n"
     ]
    },
    {
     "name": "stdout",
     "output_type": "stream",
     "text": [
      "Run classifier\n",
      "Train Model\n",
      "Test Model\n",
      "Iteration:  46\n",
      "CO2\n",
      "Process Data\n"
     ]
    },
    {
     "name": "stderr",
     "output_type": "stream",
     "text": [
      "/home/sof/.local/lib/python3.6/site-packages/ipykernel_launcher.py:63: RuntimeWarning: divide by zero encountered in double_scalars\n"
     ]
    },
    {
     "name": "stdout",
     "output_type": "stream",
     "text": [
      "Run classifier\n",
      "Train Model\n",
      "Test Model\n",
      "Iteration:  47\n",
      "CO2\n",
      "Process Data\n"
     ]
    },
    {
     "name": "stderr",
     "output_type": "stream",
     "text": [
      "/home/sof/.local/lib/python3.6/site-packages/ipykernel_launcher.py:63: RuntimeWarning: divide by zero encountered in double_scalars\n"
     ]
    },
    {
     "name": "stdout",
     "output_type": "stream",
     "text": [
      "Run classifier\n",
      "Train Model\n",
      "Test Model\n",
      "Iteration:  48\n",
      "CO2\n",
      "Process Data\n"
     ]
    },
    {
     "name": "stderr",
     "output_type": "stream",
     "text": [
      "/home/sof/.local/lib/python3.6/site-packages/ipykernel_launcher.py:63: RuntimeWarning: divide by zero encountered in double_scalars\n"
     ]
    },
    {
     "name": "stdout",
     "output_type": "stream",
     "text": [
      "Run classifier\n",
      "Train Model\n",
      "Test Model\n",
      "Iteration:  49\n",
      "CO2\n",
      "Process Data\n"
     ]
    },
    {
     "name": "stderr",
     "output_type": "stream",
     "text": [
      "/home/sof/.local/lib/python3.6/site-packages/ipykernel_launcher.py:63: RuntimeWarning: divide by zero encountered in double_scalars\n"
     ]
    },
    {
     "name": "stdout",
     "output_type": "stream",
     "text": [
      "Run classifier\n",
      "Train Model\n",
      "Test Model\n",
      "Iteration:  50\n",
      "CO2\n",
      "Process Data\n"
     ]
    },
    {
     "name": "stderr",
     "output_type": "stream",
     "text": [
      "/home/sof/.local/lib/python3.6/site-packages/ipykernel_launcher.py:63: RuntimeWarning: divide by zero encountered in double_scalars\n"
     ]
    },
    {
     "name": "stdout",
     "output_type": "stream",
     "text": [
      "Run classifier\n",
      "Train Model\n",
      "Test Model\n",
      "Iteration:  51\n",
      "CO2\n",
      "Process Data\n"
     ]
    },
    {
     "name": "stderr",
     "output_type": "stream",
     "text": [
      "/home/sof/.local/lib/python3.6/site-packages/ipykernel_launcher.py:63: RuntimeWarning: divide by zero encountered in double_scalars\n"
     ]
    },
    {
     "name": "stdout",
     "output_type": "stream",
     "text": [
      "Run classifier\n",
      "Train Model\n",
      "Test Model\n",
      "Iteration:  52\n",
      "CO2\n",
      "Process Data\n"
     ]
    },
    {
     "name": "stderr",
     "output_type": "stream",
     "text": [
      "/home/sof/.local/lib/python3.6/site-packages/ipykernel_launcher.py:63: RuntimeWarning: divide by zero encountered in double_scalars\n"
     ]
    },
    {
     "name": "stdout",
     "output_type": "stream",
     "text": [
      "Run classifier\n",
      "Train Model\n",
      "Test Model\n",
      "Iteration:  53\n",
      "CO2\n",
      "Process Data\n"
     ]
    },
    {
     "name": "stderr",
     "output_type": "stream",
     "text": [
      "/home/sof/.local/lib/python3.6/site-packages/ipykernel_launcher.py:63: RuntimeWarning: divide by zero encountered in double_scalars\n"
     ]
    },
    {
     "name": "stdout",
     "output_type": "stream",
     "text": [
      "Run classifier\n",
      "Train Model\n",
      "Test Model\n",
      "Iteration:  54\n",
      "CO2\n",
      "Process Data\n"
     ]
    },
    {
     "name": "stderr",
     "output_type": "stream",
     "text": [
      "/home/sof/.local/lib/python3.6/site-packages/ipykernel_launcher.py:63: RuntimeWarning: divide by zero encountered in double_scalars\n"
     ]
    },
    {
     "name": "stdout",
     "output_type": "stream",
     "text": [
      "Run classifier\n",
      "Train Model\n",
      "Test Model\n",
      "Iteration:  55\n",
      "CO2\n",
      "Process Data\n"
     ]
    },
    {
     "name": "stderr",
     "output_type": "stream",
     "text": [
      "/home/sof/.local/lib/python3.6/site-packages/ipykernel_launcher.py:63: RuntimeWarning: divide by zero encountered in double_scalars\n"
     ]
    },
    {
     "name": "stdout",
     "output_type": "stream",
     "text": [
      "Run classifier\n",
      "Train Model\n",
      "Test Model\n",
      "Iteration:  56\n",
      "CO2\n",
      "Process Data\n"
     ]
    },
    {
     "name": "stderr",
     "output_type": "stream",
     "text": [
      "/home/sof/.local/lib/python3.6/site-packages/ipykernel_launcher.py:63: RuntimeWarning: divide by zero encountered in double_scalars\n"
     ]
    },
    {
     "name": "stdout",
     "output_type": "stream",
     "text": [
      "Run classifier\n",
      "Train Model\n",
      "Test Model\n",
      "Iteration:  57\n",
      "CO2\n",
      "Process Data\n"
     ]
    },
    {
     "name": "stderr",
     "output_type": "stream",
     "text": [
      "/home/sof/.local/lib/python3.6/site-packages/ipykernel_launcher.py:63: RuntimeWarning: divide by zero encountered in double_scalars\n"
     ]
    },
    {
     "name": "stdout",
     "output_type": "stream",
     "text": [
      "Run classifier\n",
      "Train Model\n",
      "Test Model\n",
      "Iteration:  58\n",
      "CO2\n",
      "Process Data\n"
     ]
    },
    {
     "name": "stderr",
     "output_type": "stream",
     "text": [
      "/home/sof/.local/lib/python3.6/site-packages/ipykernel_launcher.py:63: RuntimeWarning: divide by zero encountered in double_scalars\n"
     ]
    },
    {
     "name": "stdout",
     "output_type": "stream",
     "text": [
      "Run classifier\n",
      "Train Model\n"
     ]
    }
   ],
   "source": [
    "resultsList = list()\n",
    "startIndex = 0\n",
    "endIndex = 1\n",
    "randomisationIterations = 100\n",
    "resultsHeader = ['RandomState','VOC','Precision', 'Accuracy']\n",
    "\n",
    "for vocIndex in range(startIndex,endIndex):\n",
    "    for i in range(0,randomisationIterations):\n",
    "        print('Iteration: ', str(i))\n",
    "\n",
    "        voc = vocDf.columns[vocIndex]\n",
    "        print(voc)\n",
    "        vocData = vocDf[voc]\n",
    "\n",
    "        print('Process Data')\n",
    "        #generate normalised screenings\n",
    "        screeningList, matchedMovies = generateNormalisedScreenings(sliceDict, vocData)\n",
    "        \n",
    "        #movie-based train test split\n",
    "        #normal screenings\n",
    "        testScreenings,testMovies,trainScreenings,trainMovies = movieTrainTestSplit(movieList,matchedMovies,screeningList)\n",
    "        \n",
    "        #create input-output df\n",
    "        testSet = inputOutputDf(testScreenings)\n",
    "        trainSet = inputOutputDf(trainScreenings)\n",
    "\n",
    "    \n",
    "        #extract labels and features\n",
    "        featuresTrain = trainSet[:, 0:-1]\n",
    "        labelsTrain = trainSet[:,-1]\n",
    "        featuresTest = testSet[:, 0:-1]\n",
    "        labelsTest = testSet[:,-1]\n",
    "        \n",
    "\n",
    "        print('Run classifier')\n",
    "        #regression\n",
    "        precisionScore,accuracyScore = ClassificationModel(featuresTrain,labelsTrain, labelsTest,featuresTest)\n",
    "        resultsList.append([False, voc, precisionScore,accuracyScore])\n",
    "        \n",
    "    print('Write results to file')\n",
    "    #create results Df\n",
    "    resultsDf = pd.DataFrame(resultsList,columns=resultsHeader)\n",
    "    #write df to output file\n",
    "    resultsPath = str(voc) + 'AutoClassifer_MinMaxScaler_Trees100_%2.csv'\n",
    "    resultsDf.to_csv(resultsPath, sep=',', encoding='utf-8')\n",
    "    print()\n",
    "\n"
   ]
  },
  {
   "cell_type": "markdown",
   "metadata": {},
   "source": [
    "### Create categorical ground-truth values"
   ]
  },
  {
   "cell_type": "code",
   "execution_count": 125,
   "metadata": {},
   "outputs": [
    {
     "data": {
      "text/plain": [
       "0.2361001805471969"
      ]
     },
     "execution_count": 125,
     "metadata": {},
     "output_type": "execute_result"
    }
   ],
   "source": [
    "np.sum(labelsTrain == 1)/len(labelsTrain)"
   ]
  },
  {
   "cell_type": "code",
   "execution_count": 126,
   "metadata": {},
   "outputs": [
    {
     "data": {
      "text/plain": [
       "0.11064302578584324"
      ]
     },
     "execution_count": 126,
     "metadata": {},
     "output_type": "execute_result"
    }
   ],
   "source": [
    "np.sum(labelsTrain == -1)/len(labelsTrain)"
   ]
  },
  {
   "cell_type": "code",
   "execution_count": 127,
   "metadata": {},
   "outputs": [
    {
     "data": {
      "text/plain": [
       "0.6532567936669599"
      ]
     },
     "execution_count": 127,
     "metadata": {},
     "output_type": "execute_result"
    }
   ],
   "source": [
    "np.sum(labelsTrain == 0)/len(labelsTrain)"
   ]
  },
  {
   "cell_type": "markdown",
   "metadata": {},
   "source": [
    "### Plot Screenings"
   ]
  },
  {
   "cell_type": "code",
   "execution_count": 75,
   "metadata": {},
   "outputs": [
    {
     "data": {
      "text/plain": [
       "<matplotlib.collections.PathCollection at 0x7fb281ae0240>"
      ]
     },
     "execution_count": 75,
     "metadata": {},
     "output_type": "execute_result"
    },
    {
     "data": {
      "image/png": "[encoded data removed]",
      "text/plain": [
       "<Figure size 432x288 with 1 Axes>"
      ]
     },
     "metadata": {
      "needs_background": "light"
     },
     "output_type": "display_data"
    }
   ],
   "source": [
    "plt.figure()\n",
    "plt.scatter(np.arange(0,len(screeningList[1][0])), screeningList[1][0])"
   ]
  },
  {
   "cell_type": "code",
   "execution_count": 78,
   "metadata": {},
   "outputs": [
    {
     "name": "stderr",
     "output_type": "stream",
     "text": [
      "/home/sof/.local/lib/python3.6/site-packages/ipykernel_launcher.py:2: RuntimeWarning: divide by zero encountered in true_divide\n",
      "  \n"
     ]
    },
    {
     "data": {
      "text/plain": [
       "<matplotlib.collections.PathCollection at 0x7fb28753a3c8>"
      ]
     },
     "execution_count": 78,
     "metadata": {},
     "output_type": "execute_result"
    },
    {
     "data": {
      "image/png": "[encoded data removed]",
      "text/plain": [
       "<Figure size 432x288 with 1 Axes>"
      ]
     },
     "metadata": {
      "needs_background": "light"
     },
     "output_type": "display_data"
    }
   ],
   "source": [
    "screening = screeningList[0]\n",
    "percentageChange = np.array([np.divide(screening[0,x+1] - screening[0,x],screening[0,x]) for x in range(8,screening.shape[1]-1)])\n",
    "percentageChange[np.isinf(percentageChange)] = 0\n",
    "\n",
    "plt.figure()\n",
    "plt.scatter(np.arange(0,len(percentageChange)), percentageChange)"
   ]
  },
  {
   "cell_type": "code",
   "execution_count": 87,
   "metadata": {},
   "outputs": [
    {
     "data": {
      "text/plain": [
       "array([0.33847568, 0.34704626, 0.37390073, 0.41563571, 0.41123863,\n",
       "       0.41834352, 0.42693894, 0.43101307, 0.4302678 , 0.38883092,\n",
       "       0.37409947, 0.38597406, 0.39909077, 0.39991057, 0.40912704,\n",
       "       0.46805286, 0.50991206, 0.56983157, 0.60503304, 0.59663636,\n",
       "       0.60543052, 0.62890644, 0.64681771, 0.6635117 , 0.67374671,\n",
       "       0.67859095, 0.69054007, 0.70348288, 0.72045014, 0.72909525,\n",
       "       0.70927113, 0.67724947, 0.65367417, 0.64500422, 0.65178616,\n",
       "       0.64982362, 0.66701446, 0.65586029, 0.63772544, 0.63737765,\n",
       "       0.65769861, 0.65722661, 0.65541313, 0.64406022, 0.65322701,\n",
       "       0.64820887, 0.6623938 , 0.6740945 , 0.68909922, 0.74750335,\n",
       "       0.79852934, 0.8166145 , 0.83025289, 0.83944453, 0.85581557,\n",
       "       0.85211408, 0.86048591, 0.8331346 , 0.8252596 , 0.82200527,\n",
       "       0.83619019, 0.87072092, 0.86796343, 0.86282109, 0.88734039,\n",
       "       0.87926666, 0.85454862, 0.88117951, 0.89310379, 0.88120435,\n",
       "       0.84669846, 0.81919809, 0.79125056, 0.78804591, 0.74762756,\n",
       "       0.72961693, 0.7475282 , 0.77366224, 0.7872758 , 0.785512  ,\n",
       "       0.76273165, 0.75463308, 0.76238386, 0.73284643, 0.72631291,\n",
       "       0.73170368, 0.73952899, 0.73118199, 0.77179908, 0.79452974,\n",
       "       0.7689919 , 0.76914095, 0.82242758, 0.84105927, 0.82627813,\n",
       "       0.80444179, 0.78653053, 0.77177423, 0.74931684, 0.78384757,\n",
       "       0.77786059, 0.7794008 , 0.66979679, 0.4825359 , 0.32829036,\n",
       "       0.17806926, 0.07057684, 0.        , 0.06784419, 0.34297213,\n",
       "       0.50273265, 0.53318925, 0.50894321, 0.51356387, 0.56446564,\n",
       "       0.63819745, 0.68276445, 0.77256919, 0.85693347, 0.95992945,\n",
       "       0.99334228, 0.9209768 , 0.84207781, 0.76424703, 0.73056094,\n",
       "       0.76998559, 0.79639291, 0.8089134 , 0.84282307, 0.85579073,\n",
       "       0.87019923, 0.91238138, 0.9400308 , 0.96156904, 0.96037661,\n",
       "       0.94716053, 0.90393501, 0.89414717, 0.86033686, 0.81706166,\n",
       "       0.7588811 , 0.63457048, 0.56853977, 0.48005167, 0.43339792,\n",
       "       0.41036916, 0.38090625, 0.38607343, 0.37250956, 0.37491926,\n",
       "       0.40341333, 0.43468972, 0.44748348, 0.50785015, 0.56811745,\n",
       "       0.60858548, 0.62339146, 0.65658071, 0.67672778, 0.71900929,\n",
       "       0.75639688, 0.74571471, 0.75853331, 0.76101754, 0.76163859,\n",
       "       0.73493317, 0.72834998, 0.76153923, 0.79753565, 0.75647141,\n",
       "       0.75478213, 0.75013663, 0.73786456, 0.72074825, 0.72526954,\n",
       "       0.71500969, 0.73843593, 0.79865355, 0.82128484, 0.82968152,\n",
       "       0.81783177, 0.7882198 , 0.78667958, 0.79835544, 0.81214289,\n",
       "       0.80744771, 0.79388384, 0.81032941, 0.79137477, 0.77264371,\n",
       "       0.76384956, 0.79110151, 0.78581011, 0.74005068, 0.76062006,\n",
       "       0.74531724, 0.73416306, 0.72134446, 0.69719779, 0.70002981,\n",
       "       0.71900929, 0.72941819, 0.72126994, 0.70435236, 0.70517216,\n",
       "       0.71836339, 0.72236299, 0.72611417, 0.73376559, 0.71339494,\n",
       "       0.68703731, 0.68616783, 0.67255428, 0.6686292 , 0.69198092,\n",
       "       0.69699906, 0.71170567, 0.71105977, 0.72961693, 0.74062205,\n",
       "       0.73463507, 0.75771352, 0.80675212, 0.81177026, 0.84794058,\n",
       "       0.84848711, 0.84173001, 0.85114523, 0.86987629, 0.86654742,\n",
       "       0.8510707 , 0.83000447, 0.79082824, 0.78121429, 0.80001987,\n",
       "       0.82657624, 0.85114523, 0.86523078, 0.89233368, 0.8792915 ,\n",
       "       0.88500522, 0.87755254, 0.87444726, 0.88493069, 0.85201471,\n",
       "       0.82893625, 0.84163065, 0.86451036, 0.88803597, 0.8792915 ,\n",
       "       0.89856909, 0.88915387, 0.88701744, 0.89106673, 0.884409  ,\n",
       "       0.89136483, 0.87452179, 0.89173747, 0.92922442, 0.94986834,\n",
       "       0.96626422, 0.95160729, 0.94380683, 0.90930094, 0.91608287,\n",
       "       0.95048939, 0.94298703, 0.9195111 , 0.91879068, 0.92800715,\n",
       "       0.95814081, 0.98420033, 0.98410096, 0.99421176, 1.        ,\n",
       "       0.99093258, 0.96502211, 0.99905599, 0.99965221, 0.98964078,\n",
       "       0.97513291, 0.98159189, 0.96790381, 0.95245193, 0.93237939,\n",
       "       0.91496497, 0.92194565, 0.92927411, 0.95399215, 0.95881155,\n",
       "       0.95197993, 0.94425399, 0.94820391])"
      ]
     },
     "execution_count": 87,
     "metadata": {},
     "output_type": "execute_result"
    }
   ],
   "source": [
    "screening[0][8:screening.shape[1]-1]"
   ]
  },
  {
   "cell_type": "code",
   "execution_count": 92,
   "metadata": {},
   "outputs": [
    {
     "data": {
      "text/plain": [
       "array([ 2.53211009e+00,  7.73801002e+00,  1.11620490e+01, -1.05791644e+00,\n",
       "        1.72767911e+00,  2.05463183e+00,  9.54265099e-01, -1.72910663e-01,\n",
       "       -9.63048499e+00, -3.78865321e+00,  3.17418155e+00,  3.39833945e+00,\n",
       "        2.05415500e-01,  2.30463412e+00,  1.44028174e+01,  8.94326203e+00,\n",
       "        1.17509500e+01,  6.17752202e+00, -1.38780538e+00,  1.47395595e+00,\n",
       "        3.87755939e+00,  2.84800126e+00,  2.58094250e+00,  1.54255120e+00,\n",
       "        7.19000037e-01,  1.76087275e+00,  1.87430298e+00,  2.41189350e+00,\n",
       "        1.19995862e+00, -2.71900235e+00, -4.51472803e+00, -3.48103587e+00,\n",
       "       -1.32634059e+00,  1.05145586e+00, -3.01101498e-01,  2.64546219e+00,\n",
       "       -1.67225326e+00, -2.76504678e+00, -5.45362471e-02,  3.18821374e+00,\n",
       "       -7.17658168e-02, -2.75929846e-01, -1.73217602e+00,  1.42328165e+00,\n",
       "       -7.68206883e-01,  2.18832637e+00,  1.76642664e+00,  2.22590750e+00,\n",
       "        8.47543170e+00,  6.82618810e+00,  2.26480836e+00,  1.67011438e+00,\n",
       "        1.10708836e+00,  1.95022343e+00, -4.32510885e-01,  9.82478645e-01,\n",
       "       -3.17858999e+00, -9.45224677e-01, -3.94340759e-01,  1.72564901e+00,\n",
       "        4.12953060e+00, -3.16690442e-01, -5.92461147e-01,  2.84175976e+00,\n",
       "       -9.09879896e-01, -2.81121094e+00,  3.11636966e+00,  1.35321812e+00,\n",
       "       -1.33236906e+00, -3.91576455e+00, -3.24795353e+00, -3.41157205e+00,\n",
       "       -4.05010832e-01, -5.12893260e+00, -2.40903805e+00,  2.45488594e+00,\n",
       "        3.49606195e+00,  1.75962496e+00, -2.24038371e-01, -2.90006325e+00,\n",
       "       -1.06178549e+00,  1.02709287e+00, -3.87435237e+00, -8.91525424e-01,\n",
       "        7.42210213e-01,  1.06946425e+00, -1.12869092e+00,  5.55498930e+00,\n",
       "        2.94515257e+00, -3.21420755e+00,  1.93829753e-02,  6.92807080e+00,\n",
       "        2.26545037e+00, -1.75744329e+00, -2.64273473e+00, -2.22654561e+00,\n",
       "       -1.87612520e+00, -2.90984002e+00,  4.60829493e+00, -7.63794251e-01,\n",
       "        1.98007154e-01, -1.40625996e+01, -2.79578666e+01, -3.19656096e+01,\n",
       "       -4.57586076e+01, -6.03655134e+01, -1.00000000e+02,  0.00000000e+00,\n",
       "        4.05529110e+02,  4.65811966e+01,  6.05821021e+00, -4.54736057e+00,\n",
       "        9.07892810e-01,  9.91147874e+00,  1.30622304e+01,  6.98326197e+00,\n",
       "        1.31531073e+01,  1.09199653e+01,  1.20191332e+01,  3.48075878e+00,\n",
       "       -7.28504977e+00, -8.56688156e+00, -9.24270584e+00, -4.40774932e+00,\n",
       "        5.39649075e+00,  3.42958542e+00,  1.57215048e+00,  4.19200295e+00,\n",
       "        1.53859758e+00,  1.68364829e+00,  4.84741214e+00,  3.03046805e+00,\n",
       "        2.29122622e+00, -1.24008577e-01, -1.37613492e+00, -4.56369502e+00,\n",
       "       -1.08280430e+00, -3.78129081e+00, -5.03003003e+00, -7.12070538e+00,\n",
       "       -1.63807778e+01, -1.04055747e+01, -1.55641003e+01, -9.71848479e+00,\n",
       "       -5.31353892e+00, -7.17961136e+00,  1.35655123e+00, -3.51328743e+00,\n",
       "        6.46882294e-01,  7.60005301e+00,  7.75294045e+00,  2.94319351e+00,\n",
       "        1.34902570e+01,  1.18671428e+01,  7.12317985e+00,  2.43285166e+00,\n",
       "        5.32398183e+00,  3.06848278e+00,  6.24793510e+00,  5.19987562e+00,\n",
       "       -1.41224383e+00,  1.71896862e+00,  3.27503766e-01,  8.16086701e-02,\n",
       "       -3.50631136e+00, -8.95754462e-01,  4.55677206e+00,  4.72679824e+00,\n",
       "       -5.14889110e+00, -2.23309579e-01, -6.15475759e-01, -1.63597828e+00,\n",
       "       -2.31970911e+00,  6.27305001e-01, -1.41462579e+00,  3.27635328e+00,\n",
       "        8.15475189e+00,  2.83368067e+00,  1.02238355e+00, -1.42822924e+00,\n",
       "       -3.62078916e+00, -1.95404835e-01,  1.48419490e+00,  1.72698136e+00,\n",
       "       -5.78123088e-01, -1.67984494e+00,  2.07153362e+00, -2.33912750e+00,\n",
       "       -2.36690105e+00, -1.13819047e+00,  3.56771172e+00, -6.68864814e-01,\n",
       "       -5.82321700e+00,  2.77945619e+00, -2.01188843e+00, -1.49656690e+00,\n",
       "       -1.74601563e+00, -3.34745325e+00,  4.06199893e-01,  2.71123887e+00,\n",
       "        1.44767301e+00, -1.11709012e+00, -2.34552594e+00,  1.16389800e-01,\n",
       "        1.87064046e+00,  5.56765916e-01,  5.19292936e-01,  1.05374799e+00,\n",
       "       -2.77617903e+00, -3.69467563e+00, -1.26554816e-01, -1.98399768e+00,\n",
       "       -5.83607284e-01,  3.49247631e+00,  7.25183989e-01,  2.10999038e+00,\n",
       "       -9.07536040e-02,  2.60978933e+00,  1.50834185e+00, -8.08372187e-01,\n",
       "        3.14148519e+00,  6.47191895e+00,  6.22016936e-01,  4.45573339e+00,\n",
       "        6.44537544e-02, -7.96369492e-01,  1.11855503e+00,  2.20068881e+00,\n",
       "       -3.82682202e-01, -1.78602144e+00, -2.47526197e+00, -4.72000239e+00,\n",
       "       -1.21568135e+00,  2.40722485e+00,  3.31946342e+00,  2.97238001e+00,\n",
       "        1.65489464e+00,  3.13244710e+00, -1.46158129e+00,  6.49809295e-01,\n",
       "       -8.42105263e-01, -3.53857042e-01,  1.19886364e+00, -3.71961148e+00,\n",
       "       -2.70869172e+00,  1.53140734e+00,  2.71849818e+00,  2.72126437e+00,\n",
       "       -9.84698017e-01,  2.19240006e+00, -1.04780072e+00, -2.40277157e-01,\n",
       "        4.56505909e-01, -7.47163289e-01,  7.86494761e-01, -1.88957944e+00,\n",
       "        1.96858222e+00,  4.20381101e+00,  2.22162812e+00,  1.72612198e+00,\n",
       "       -1.51686549e+00, -8.19714927e-01, -3.65603285e+00,  7.45840505e-01,\n",
       "        3.75583035e+00, -7.89315491e-01, -2.48952818e+00, -7.83487329e-02,\n",
       "        1.00310937e+00,  3.24713567e+00,  2.71980088e+00, -1.00964208e-02,\n",
       "        1.02741455e+00,  5.82194348e-01, -9.06742187e-01, -2.61475595e+00,\n",
       "        3.52674664e+00,  5.96777402e-02, -1.00149105e+00, -1.46597384e+00,\n",
       "        6.62369755e-01, -1.39447777e+00, -1.59642729e+00, -2.10745957e+00,\n",
       "       -1.86773953e+00,  7.62944259e-01,  7.94891140e-01,  2.65992996e+00,\n",
       "        5.05182022e-01, -7.12509068e-01, -8.11565460e-01,  4.18310971e-01,\n",
       "        2.34483481e+00])"
      ]
     },
     "execution_count": 92,
     "metadata": {},
     "output_type": "execute_result"
    }
   ],
   "source": [
    "percentageChange*100"
   ]
  },
  {
   "cell_type": "code",
   "execution_count": null,
   "metadata": {},
   "outputs": [],
   "source": []
  }
 ],
 "metadata": {
  "kernelspec": {
   "display_name": "Python 3",
   "language": "python",
   "name": "python3"
  },
  "language_info": {
   "codemirror_mode": {
    "name": "ipython",
    "version": 3
   },
   "file_extension": ".py",
   "mimetype": "text/x-python",
   "name": "python",
   "nbconvert_exporter": "python",
   "pygments_lexer": "ipython3",
   "version": "3.6.8"
  }
 },
 "nbformat": 4,
 "nbformat_minor": 2
}
