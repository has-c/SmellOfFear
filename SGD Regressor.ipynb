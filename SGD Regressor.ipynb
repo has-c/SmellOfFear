{
 "cells": [
  {
   "cell_type": "code",
   "execution_count": 1,
   "metadata": {},
   "outputs": [],
   "source": [
    "import pandas as pd\n",
    "import numpy as np\n",
    "from sklearn import metrics\n",
    "from sklearn.model_selection import train_test_split\n",
    "import DataPipeline"
   ]
  },
  {
   "cell_type": "code",
   "execution_count": 2,
   "metadata": {},
   "outputs": [],
   "source": [
    "#frames were collected at 1/3fps so for a 30 second period there are 10 frames. This function just groups the \n",
    "#dominant frame colour or shade components to within their respective intervals\n",
    "def grouping(visualList):\n",
    "    movieVisuals = list()\n",
    "    for index in range(0, int(len(visualList)/10)):\n",
    "        segment = visualList[index*10:index*10+10]\n",
    "        movieVisuals.append(segment)\n",
    "    return movieVisuals"
   ]
  },
  {
   "cell_type": "code",
   "execution_count": null,
   "metadata": {},
   "outputs": [],
   "source": [
    "def processVisuals(movieVisualData, runtime, isColour):\n",
    "    visualDataIntervals = grouping(movieVisualData)\n",
    "    #the visual data also has the credits accounted for so remove them\n",
    "    visualDataIntervals = visualDataIntervals[:runtime]\n",
    "    #create a dataframe \n",
    "    if isColour: \n",
    "        #create a dominant colour dataframe\n",
    "        framesPerInterval = 10\n",
    "        header = list();\n",
    "        for i in range(1,framesPerInterval+1):\n",
    "            header = header + ['R'+str(i), 'G' + str(i),  'B'+str(i)]\n",
    "    else: #shade object to be parsed\n",
    "        framesPerInterval = 10\n",
    "        header = ['S' + str(x) for x in range(1,framesPerInterval+1)]\n",
    "    \n",
    "    visualDf = pd.DataFrame(columns=header)\n",
    "    #assemble the dataframe\n",
    "    for segment in visualDataIntervals:\n",
    "        index = visualDataIntervals.index(segment)\n",
    "        colourRow = list()\n",
    "        for colour in segment:\n",
    "            if isColour:\n",
    "                colourRow = colourRow + [colour[0], colour[1], colour[2]]\n",
    "            else:\n",
    "                colourRow = colourRow + [colour[0]]\n",
    "        #assign that colour row to the dataframe\n",
    "        visualDf.loc[index] = colourRow\n",
    "            \n",
    "    return visualDf"
   ]
  },
  {
   "cell_type": "code",
   "execution_count": null,
   "metadata": {},
   "outputs": [],
   "source": [
    "def processAudio(runtime, audio):\n",
    "    audioFeatures = list(audio.keys())\n",
    "\n",
    "    audioDf = pd.DataFrame(columns=[])        \n",
    "    for key in audioFeatures:\n",
    "        audio[key] = audio[key][:runtime]\n",
    "\n",
    "        #assemble df \n",
    "        #create header\n",
    "        if key != 'tempo':\n",
    "            header = [key + str(x) for x in range(1, len(audio[key][0])+1)]\n",
    "        else:\n",
    "            header = ['tempo']\n",
    "\n",
    "        audioFeatureDf = pd.DataFrame(columns=header)\n",
    "        for index in range(0, len(audio[key])):\n",
    "            feature = audio[key][index]\n",
    "            audioFeatureDf.loc[index] = feature\n",
    "\n",
    "        #concatenate featureDf to audioDf\n",
    "        audioDf = pd.concat([audioDf,audioFeatureDf], axis=1)\n",
    "    \n",
    "    return audioDf"
   ]
  },
  {
   "cell_type": "code",
   "execution_count": null,
   "metadata": {},
   "outputs": [],
   "source": [
    "def processSubtitles(subs, effectiveRuntime):\n",
    "    \n",
    "    header = ['sentiment value']\n",
    "    subSentimentDf = pd.DataFrame(columns=header)\n",
    "    for sentimentIndex in range(0, len(subs)):\n",
    "        sentiment = subs[sentimentIndex]\n",
    "        if len(sentiment) != 0:\n",
    "            if sentiment['sentimentValue'] == np.NaN:\n",
    "                print('YES')\n",
    "            else:         \n",
    "                subSentimentDf.loc[sentimentIndex] = [sentiment['sentimentValue']]\n",
    "        else:\n",
    "            subSentimentDf.loc[sentimentIndex] = [-1] #indicates no dialog occurred during the scene\n",
    "        \n",
    "        #enforce no dialog until the credit scene if there is in fact no dialog\n",
    "        if len(subSentimentDf) != effectiveRuntime:\n",
    "            #no dialog at the end thus need to fill the rest with -1\n",
    "            for index in range(0, effectiveRuntime-len(subSentimentDf)+1):\n",
    "                 subSentimentDf.loc[index] = [-1]\n",
    "    \n",
    "    return subSentimentDf"
   ]
  },
  {
   "cell_type": "code",
   "execution_count": null,
   "metadata": {},
   "outputs": [],
   "source": [
    "def processASL(asl, effectiveRuntime):\n",
    "    \n",
    "    header = ['average shot length']\n",
    "    aslDf = pd.DataFrame(columns=header)\n",
    "    for index in range(0, effectiveRuntime): \n",
    "        aslValue = asl[index]\n",
    "        aslDf.loc[index] = aslValue\n",
    "    \n",
    "    return aslDf"
   ]
  },
  {
   "cell_type": "code",
   "execution_count": null,
   "metadata": {},
   "outputs": [],
   "source": [
    "def removeMovies(vocDict):\n",
    "\n",
    "    #remove all screenings of im off then and help i shrunk the teacher as at the current time do not have the movies\n",
    "    screenings = list()\n",
    "    matchedMovies = list()\n",
    "    for movieIndex in range(0, len(vocDict['matchedMovies'])):\n",
    "        movie = vocDict['matchedMovies'][movieIndex]\n",
    "        if movie != \"Help, I Shrunk My Teacher\" and movie != \"I'm Off Then\":\n",
    "            #add good screenings to a modified screening list\n",
    "            matchedMovies.append(movie)\n",
    "            screenings.append(vocDict['screenings'][movieIndex])\n",
    "    #replace\n",
    "    vocDict = dict()\n",
    "    vocDict['matchedMovies'] = matchedMovies\n",
    "    vocDict['screenings'] = screenings\n",
    "    \n",
    "    return vocDict"
   ]
  },
  {
   "cell_type": "code",
   "execution_count": null,
   "metadata": {},
   "outputs": [],
   "source": [
    "#user macros\n",
    "lengthOfWindow = 10\n",
    "deltaVOC = False\n",
    "windowedVOCs = False"
   ]
  },
  {
   "cell_type": "code",
   "execution_count": null,
   "metadata": {},
   "outputs": [],
   "source": [
    "#overall feature and labels df\n",
    "featureDf = pd.DataFrame([]) #film feature dataframe\n",
    "labelDf = pd.DataFrame([]) #voc dataframe\n",
    "\n",
    "#import movie runtimes\n",
    "movieRuntimesPath = 'Numerical Data/movie_runtimes.csv'\n",
    "movieRuntimeDf = pd.read_csv(movieRuntimesPath, usecols = ['movie', 'runtime (mins)', 'effective runtime'])\n",
    "movieList = list(movieRuntimeDf['movie'])\n",
    "\n",
    "movieFeatureDict = dict() #dict contains the movie film features with the keys being the movies\n",
    "#import pickle objects for movies and then assemble the dataframes  \n",
    "for movie in movieList:\n",
    "    try:\n",
    "        #load pickle feauture objects\n",
    "        featurePath = 'Pickle Objects/Audio Feature Pickle Objects/' + movie + '.p'\n",
    "        audio = pickle.load(open(featurePath, \"rb\" )) \n",
    "        featurePath = 'Pickle Objects/Colour Pickle Objects/' + movie + '.p'\n",
    "        colour = pickle.load(open(featurePath, \"rb\" )) \n",
    "        featurePath = 'Pickle Objects/Shade Pickle Objects/' + movie + '.p'\n",
    "        shade = pickle.load(open(featurePath, \"rb\" )) \n",
    "        featurePath = 'Pickle Objects/Subtitle Sentiment Pickle Objects/' + movie + '.p'\n",
    "        sentiment = pickle.load(open(featurePath, \"rb\" )) \n",
    "        featurePath = 'Pickle Objects/ASL Pickle Objects/' + movie + '.p'\n",
    "        asl = pickle.load(open(featurePath, \"rb\" )) \n",
    "\n",
    "        runtime = int(movieRuntimeDf.loc[movieList.index(movie)]['effective runtime'])\n",
    "        colourDf = processVisuals(colour, runtime, True)\n",
    "        shadeDf = processVisuals(shade, runtime, False)\n",
    "        audioDf = processAudio(runtime, audio)\n",
    "        sentimentDf = processSubtitles(sentiment,runtime)\n",
    "        aslDf = processASL(asl, runtime)\n",
    "\n",
    "        inputDf = pd.concat([colourDf,shadeDf,audioDf,sentimentDf,aslDf], axis = 1)\n",
    "        movieFeatureDict[movie] = inputDf\n",
    "\n",
    "    except FileNotFoundError:\n",
    "        pass"
   ]
  },
  {
   "cell_type": "code",
   "execution_count": null,
   "metadata": {},
   "outputs": [],
   "source": [
    "#remove all screenings of im off then and help i shrunk the teacher as at the current time do not have the movies\n",
    "vocDict = removeMovies(vocDict)"
   ]
  },
  {
   "cell_type": "code",
   "execution_count": null,
   "metadata": {},
   "outputs": [],
   "source": [
    "#create label and feature df\n",
    "for i in range(0, len(vocDict['screenings'])): \n",
    "    matchedMovie = vocDict['matchedMovies'][i]\n",
    "    if not(deltaVOCs):\n",
    "        featureDf = pd.concat([featureDf, movieFeatureDict[matchedMovie]])\n",
    "    else:\n",
    "        featureHeader = list(movieFeatureDict[matchedMovie].columns) + list(movieFeatureDict[matchedMovie].columns)\n",
    "        deltaDf = calculateDeltaFilmFeatures(movieFeatureDict[matchedMovie],featureHeader)\n",
    "        featureDf = pd.concat([featureDf, deltaDf])\n",
    "\n",
    "    if not(windowedVOCs):\n",
    "        screening = vocDict['screenings'][i]\n",
    "        labelDf = pd.concat([labelDf, screening[voc]])\n",
    "    else:\n",
    "        screening = vocDict['screenings'][i]\n",
    "        #using windowedVOCsed VOCs\n",
    "        header = ['VOC' + str(x) for x in range(1,lengthOfWindow+1)]\n",
    "        vocWindowDf = pd.DataFrame(columns = header)\n",
    "        for index in range(0, len(screening)):\n",
    "            vocWindow = screening[index][voc].values\n",
    "            vocWindowDf.loc[index] = vocWindow \n",
    "        labelDf = pd.concat([labelDf, vocWindowDf])\n",
    "\n",
    "#relabel column title \n",
    "if not(windowedVOCs):\n",
    "    labelDf.columns = ['VOC']"
   ]
  },
  {
   "cell_type": "code",
   "execution_count": null,
   "metadata": {},
   "outputs": [],
   "source": [
    "regressor = linear_model.SGDRegressor(max_iter=1000, tol=1e-3)\n",
    "regressor.fit(featureDf, labelDf)"
   ]
  }
 ],
 "metadata": {
  "kernelspec": {
   "display_name": "Python 3",
   "language": "python",
   "name": "python3"
  },
  "language_info": {
   "codemirror_mode": {
    "name": "ipython",
    "version": 3
   },
   "file_extension": ".py",
   "mimetype": "text/x-python",
   "name": "python",
   "nbconvert_exporter": "python",
   "pygments_lexer": "ipython3",
   "version": "3.6.5"
  }
 },
 "nbformat": 4,
 "nbformat_minor": 2
}
