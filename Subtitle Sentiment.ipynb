{
 "cells": [
  {
   "cell_type": "markdown",
   "metadata": {},
   "source": [
    "# Subtitle Sentiment Analysis\n",
    "\n",
    "Using CoreNLP and a StanfordNLP server to perform sentiment analysis"
   ]
  },
  {
   "cell_type": "code",
   "execution_count": 2,
   "metadata": {},
   "outputs": [],
   "source": [
    "from nltk import tokenize\n",
    "import pandas as pd\n",
    "import matplotlib.pyplot as plt\n",
    "import seaborn as sns\n",
    "import numpy as np\n",
    "import pickle\n",
    "import copy\n",
    "from pycorenlp import StanfordCoreNLP\n",
    "import logging\n",
    "import json\n",
    "from datetime import time"
   ]
  },
  {
   "cell_type": "code",
   "execution_count": 3,
   "metadata": {},
   "outputs": [],
   "source": [
    "#import srt files\n",
    "movieRuntimePath = 'Numerical Data//movie_runtimes.csv'\n",
    "movieRuntimeDf = pd.read_csv(movieRuntimePath, usecols = ['movie', 'effective runtime'])\n",
    "movieList = list(movieRuntimeDf['movie'])\n",
    "\n",
    "try:\n",
    "    rawSubtitles = dict()\n",
    "    for movie in movieList:\n",
    "        subPath = 'Features//Subtitle SRT//' + movie + '.srt'\n",
    "        subs = open(subPath, mode = 'r', encoding='utf-8-sig')\n",
    "        rawSubtitles[movie] = subs\n",
    "except FileNotFoundError:\n",
    "    pass"
   ]
  },
  {
   "cell_type": "code",
   "execution_count": 4,
   "metadata": {},
   "outputs": [],
   "source": [
    "#rawSub - subtitles, runtime is the effective runtime \n",
    "def divideSubsIntoSegments(lines, runtime):\n",
    "    \n",
    "    refEndSec = 30\n",
    "    refEndMin = 0\n",
    "    refEndHour = 0\n",
    "    referenceEndTime = time(refEndHour, refEndMin, refEndSec)\n",
    "    refStartSec = 0\n",
    "    refStartMin = 0\n",
    "    refStartHour = 0\n",
    "    referenceStartTime = time(refStartHour, refStartMin, refStartSec)\n",
    "    startTime = None\n",
    "    \n",
    "    subtitleIntervals = list()\n",
    "    \n",
    "    for segment in range(0, runtime):\n",
    "        #parse of timing information\n",
    "        subtitleSegment = list()\n",
    "        for rowIndex in range(0,len(lines)):\n",
    "            line = str(lines[rowIndex])\n",
    "            if len(line) > 15:\n",
    "                arrow = line[13] + line[14] + line[15]\n",
    "                if arrow == '-->':\n",
    "                    #timing information detected\n",
    "                    #parse the actual time\n",
    "                    startTime = line[0:8] #extract the start time\n",
    "                    startHour = int(startTime[0] + startTime[1])\n",
    "                    startMinutes = int(startTime[3] + startTime[4])\n",
    "                    startSeconds = int(startTime[6] + startTime[7])\n",
    "                    startTime = time(startHour,startMinutes,startSeconds)\n",
    "                    \n",
    "                    if startTime > referenceEndTime:\n",
    "                        \n",
    "                        subtitleIntervals.append(subtitleSegment)\n",
    "                        \n",
    "                        refStartSec = refStartSec + 30\n",
    "                        if refStartSec == 60:\n",
    "                            refStartSec = 0\n",
    "                            refStartMin = refStartMin + 1\n",
    "                        if refStartMin == 60:\n",
    "                            refStartMin = 0\n",
    "                            refStartHour = refStartHour + 1\n",
    "                        \n",
    "                        refEndSec = refEndSec + 30\n",
    "                        if refEndSec == 60:\n",
    "                            refEndMin = refEndMin + 1\n",
    "                            refEndSec = 0\n",
    "                        if refEndMin == 60:\n",
    "                            refEndHour = refEndHour + 1\n",
    "                            refEndMin = 0\n",
    "                            \n",
    "                        referenceEndTime = time(refEndHour, refEndMin, refEndSec)\n",
    "                        referenceStartTime = time(refStartHour, refStartMin, refStartSec)\n",
    "                        \n",
    "                        break\n",
    "                        \n",
    "                    continue\n",
    "                    \n",
    "            if startTime != None:\n",
    "                if startTime >= referenceStartTime and startTime <= referenceEndTime:\n",
    "                    subtitleSegment.append(line)   \n",
    "\n",
    "    return subtitleIntervals            "
   ]
  },
  {
   "cell_type": "code",
   "execution_count": 5,
   "metadata": {},
   "outputs": [],
   "source": [
    "#remove any uncessary lines and unecessary characters within dialog lines\n",
    "def editSubtitleData(subtitleIntervals):\n",
    "    \n",
    "    parsedSubtitleIntervals = list()\n",
    "    htmlFlag = False\n",
    "    \n",
    "    for index in range(0,len(subtitleIntervals)):\n",
    "        subtitleSegment = subtitleIntervals[index]\n",
    "        modifiedSegment = list()\n",
    "        if len(subtitleSegment) != 0:\n",
    "            #parse the segment for any uncessary characters line by line\n",
    "            for rowIndex in range(0, len(subtitleSegment)):\n",
    "                line = subtitleSegment[rowIndex]\n",
    "                parsedLine = str()\n",
    "                for char in line:\n",
    "                    #if the character is not a digit then continue to process\n",
    "                    if not(char.isdigit()) and char != '\\n':\n",
    "                        #remove all html elements e.g. <i>, <b>\n",
    "                        if char == '<': \n",
    "                            htmlFlag = True\n",
    "                        if char == '>':\n",
    "                            htmlFlag = False\n",
    "                        if not(htmlFlag) and char != '>' and char != '\\'':\n",
    "                            parsedLine = parsedLine + char\n",
    "                if len(parsedLine) != 0:\n",
    "                    modifiedSegment.append(parsedLine)        \n",
    "            parsedSubtitleIntervals.append(modifiedSegment)\n",
    "        else:\n",
    "            parsedSubtitleIntervals.append(subtitleSegment)\n",
    "        \n",
    "    return parsedSubtitleIntervals"
   ]
  },
  {
   "cell_type": "code",
   "execution_count": 6,
   "metadata": {},
   "outputs": [],
   "source": [
    "movieSubtitles = dict()\n",
    "for movie in movieList:\n",
    "    try:\n",
    "        lines = rawSubtitles[movie].readlines() #contains each line within the document\n",
    "        movieIndex = movieList.index(movie)\n",
    "        segmentList = divideSubsIntoSegments(lines, movieRuntimeDf['effective runtime'][movieIndex])\n",
    "        modifiedIntervals= editSubtitleData(segmentList)\n",
    "        movieSubtitles[movie] = modifiedIntervals\n",
    "    except KeyError:\n",
    "        pass"
   ]
  },
  {
   "cell_type": "code",
   "execution_count": 14,
   "metadata": {},
   "outputs": [],
   "source": [
    "#save untranslated Buddy\n",
    "pickle.dump(movieSubtitles['Buddy'], open('BuddySubtitles.p', 'wb'))"
   ]
  },
  {
   "cell_type": "code",
   "execution_count": 7,
   "metadata": {},
   "outputs": [],
   "source": [
    "#buddy was translated locally, load buddy pickle object\n",
    "buddySubtitlePath = 'Pickle Objects/buddyEngTranslated.p'\n",
    "buddySubtitle = pickle.load(open(buddySubtitlePath, \"rb\" ))\n",
    "movieSubtitles['Buddy'] = buddySubtitle"
   ]
  },
  {
   "cell_type": "markdown",
   "metadata": {},
   "source": [
    "# Run NLP Server\n",
    "\n",
    "Navigate to the directory that contains StanfordNLP then run the following code on Terminal:\n",
    "\n",
    "## Run the server in English\n",
    "java -mx4g -cp \"*\" edu.stanford.nlp.pipeline.StanfordCoreNLPServer -annotators \"sentiment\" -port 9000 -timeout 30000\n",
    "\n",
    "### Note\n",
    "May need to change the port number if the port is in use\n",
    "\n",
    "\n",
    "\n"
   ]
  },
  {
   "cell_type": "code",
   "execution_count": null,
   "metadata": {},
   "outputs": [],
   "source": [
    "#For movies with english subtitle scripts\n",
    "subtitleSentiment = dict()\n",
    "\n",
    "nlp = StanfordCoreNLP('http://localhost:9000')\n",
    "\n",
    "for movie in movieList:\n",
    "    if movie != 'Buddy':\n",
    "        try:\n",
    "            subtitleList  = movieSubtitles[movie]\n",
    "            sentimentMovie = list()\n",
    "            for segment in subtitleList:\n",
    "                sentimentSegment = dict()\n",
    "                sentimentSegmentList = list()\n",
    "                for line in segment:\n",
    "                    res = nlp.annotate(line, properties={'annotators': 'sentiment','outputFormat': 'json','timeout': 30000,})\n",
    "                    sentimentSegment['sentiment'] = res['sentences'][0]['sentiment']\n",
    "                    sentimentSegment['sentimentValue'] = res['sentences'][0]['sentimentValue']\n",
    "                    sentimentSegmentList.append(sentimentSegment)\n",
    "                sentimentMovie.append(sentimentSegmentList)\n",
    "            subtitleSentiment[movie] = sentimentMovie\n",
    "        except KeyError:\n",
    "            pass"
   ]
  },
  {
   "cell_type": "code",
   "execution_count": 49,
   "metadata": {},
   "outputs": [],
   "source": [
    "pickle.dump(subtitleSentiment, open('subtitleSentiment.p', 'wb'))"
   ]
  },
  {
   "cell_type": "code",
   "execution_count": null,
   "metadata": {},
   "outputs": [],
   "source": [
    "subtitleSentiment['Hobbit 2']"
   ]
  },
  {
   "cell_type": "code",
   "execution_count": null,
   "metadata": {},
   "outputs": [],
   "source": [
    "subtitleSentiment['Buddy']"
   ]
  }
 ],
 "metadata": {
  "kernelspec": {
   "display_name": "Python 3",
   "language": "python",
   "name": "python3"
  },
  "language_info": {
   "codemirror_mode": {
    "name": "ipython",
    "version": 3
   },
   "file_extension": ".py",
   "mimetype": "text/x-python",
   "name": "python",
   "nbconvert_exporter": "python",
   "pygments_lexer": "ipython3",
   "version": "3.6.5"
  }
 },
 "nbformat": 4,
 "nbformat_minor": 2
}
