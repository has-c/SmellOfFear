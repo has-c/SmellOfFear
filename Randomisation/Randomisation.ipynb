{
 "cells": [
  {
   "cell_type": "code",
   "execution_count": 117,
   "metadata": {},
   "outputs": [],
   "source": [
    "import pandas as pd\n",
    "import numpy as np\n",
    "import pickle\n",
    "import random\n",
    "import copy\n",
    "\n",
    "import RegressionRF\n",
    "\n",
    "import openpyxl"
   ]
  },
  {
   "cell_type": "code",
   "execution_count": 2,
   "metadata": {},
   "outputs": [
    {
     "name": "stderr",
     "output_type": "stream",
     "text": [
      "/usr/lib/python3/dist-packages/IPython/core/interactiveshell.py:2718: DtypeWarning: Columns (2) have mixed types. Specify dtype option on import or set low_memory=False.\n",
      "  interactivity=interactivity, compiler=compiler, result=result)\n"
     ]
    }
   ],
   "source": [
    "#read in the various csvs\n",
    "#2013 Dataset\n",
    "vocPath = 'Numerical Data/2013VOCData.csv'\n",
    "voc2013DfAll = pd.read_csv(vocPath, header = 0, nrows = 74208)\n",
    "movieScreeningsPath = 'Numerical Data/screening_times.csv'\n",
    "movingScreeningsDf = pd.read_csv(movieScreeningsPath, usecols = ['scheduled','movie','filled %'])\n",
    "movieRuntimesPath = 'Numerical Data/movie_runtimes.csv'\n",
    "movieRuntimeDf = pd.read_csv(movieRuntimesPath, usecols = ['movie', 'runtime (mins)', 'effective runtime'])\n",
    "#2015 Dataset\n",
    "starWarsPath = 'Numerical Data/Star Wars-The Force Awakens.csv'\n",
    "starWarsScreeningDf = pd.read_csv(starWarsPath)\n",
    "imOffThenPath = 'Numerical Data/I\\'m Off Then.csv'\n",
    "imOffThenScreeningDf = pd.read_csv(imOffThenPath)\n",
    "helpIShrunkTheTeacherPath = 'Numerical Data/Help, I Shrunk My Teacher.csv'\n",
    "helpIShrunkTheTeacherScreeningDf = pd.read_csv(helpIShrunkTheTeacherPath)\n",
    "vocPath = 'Numerical Data/2015VOCData.csv'\n",
    "voc2015DfAll = pd.read_csv(vocPath)\n",
    "#remove first column of 2015 voc df as its not used\n",
    "voc2015DfAll.drop(\"Unnamed: 0\", axis=1, inplace=True) \n",
    "\n",
    "#import co2Slice pickle objects\n",
    "slicePath = 'Pickle Objects/CO2SliceDict.p'\n",
    "sliceDict = pickle.load(open(slicePath, \"rb\" )) #contains df of co2 slice indices and matched movie list"
   ]
  },
  {
   "cell_type": "code",
   "execution_count": 3,
   "metadata": {},
   "outputs": [],
   "source": [
    "def generateVOCScreenings(vocDf2013,vocDf2015, sliceDf, matchedMovies):\n",
    "    screeningList = list()\n",
    "    prevStartIndex = 0\n",
    "    startIndex = 0\n",
    "    vocDf = vocDf2013\n",
    "    for index in range(0, len(matchedMovies)):\n",
    "        \n",
    "        if prevStartIndex > startIndex: #switch to 2015 dataframe\n",
    "            vocDf = vocDf2015\n",
    "        \n",
    "        startIndex = sliceDf.loc[index]['start']\n",
    "        endIndex = sliceDf.loc[index]['end']\n",
    "        screening = vocDf.loc[startIndex:endIndex,:]\n",
    "        screeningList.append(screening)\n",
    "        \n",
    "        prevStartIndex = startIndex\n",
    "        \n",
    "    return screeningList"
   ]
  },
  {
   "cell_type": "code",
   "execution_count": 108,
   "metadata": {},
   "outputs": [],
   "source": [
    "def normalisation(vocScreenings, voc):\n",
    "    normalisedVOCList = list()\n",
    "    for screening in vocScreenings:\n",
    "        normalisedVOCFrame = copy.deepcopy(screening)\n",
    "        normalisedVOCFrame = normalisedVOCFrame.values/max(screening.values)\n",
    "        normalisedVOCFrame = normalisedVOCFrame.flatten()\n",
    "        normalisedScreening= pd.DataFrame.from_dict({voc:normalisedVOCFrame})\n",
    "        normalisedVOCList.append(normalisedScreening)\n",
    "    return normalisedVOCList"
   ]
  },
  {
   "cell_type": "code",
   "execution_count": 124,
   "metadata": {},
   "outputs": [],
   "source": [
    "#user macros\n",
    "voc = 'CO2'\n",
    "deltaVOCs = False\n",
    "windowedVOCs = False\n",
    "vocSave = False\n",
    "modelSave = False\n",
    "\n",
    "#results df\n",
    "resultsHeader = ['RandomState','VOC','RMSE', 'MAE', 'R2']\n",
    "resultsList = list()"
   ]
  },
  {
   "cell_type": "code",
   "execution_count": 109,
   "metadata": {},
   "outputs": [],
   "source": [
    "for voc in voc2013DfAll.columns:\n",
    "    if voc == 'Time':\n",
    "        continue\n",
    "    else:\n",
    "        try:\n",
    "            indexMask = list(voc2015DfAll.columns).index(voc)\n",
    "        except ValueError: #the voc isnt within the 2015 df\n",
    "            continue \n",
    "        \n",
    "        #if the voc is within the 2015VocDf create the entire vocDf\n",
    "        vocDf2013 = voc2013DfAll.loc[:,[voc]]\n",
    "        vocDf2015 = voc2015DfAll.loc[:,[voc]]\n",
    "        #create randomised vocDf\n",
    "        voc2013RandomisedList = copy.deepcopy(list(vocDf2013['CO2']))\n",
    "        voc2015RandomisedList = copy.deepcopy(list(vocDf2015['CO2']))\n",
    "        random.shuffle(voc2013RandomisedList)\n",
    "        random.shuffle(voc2015RandomisedList)\n",
    "        vocDf2013Randomised = pd.DataFrame.from_dict({voc:voc2013RandomisedList})\n",
    "        vocDf2015Randomised = pd.DataFrame.from_dict({voc:voc2015RandomisedList})\n",
    "        screeningList = generateVOCScreenings(vocDf2013,vocDf2015, sliceDict['sliceDf'], sliceDict['matchedMovies'])\n",
    "        randomisedScreeningList = generateVOCScreenings(vocDf2013Randomised, vocDf2015Randomised, sliceDict['sliceDf'], sliceDict['matchedMovies'])\n",
    "        #create normalised screening and normalised random screening list\n",
    "        screeningList = normalisation(screeningList, voc)\n",
    "        randomisedScreeningList = normalisation(randomisedScreeningList, voc)\n",
    "        \n",
    "        vocScreeningDict = {'screenings':screeningList, 'matchedMovies':sliceDict['matchedMovies']}\n",
    "        vocRandomisedScreeningDict = {'screenings':randomisedScreeningList, 'matchedMovies':sliceDict['matchedMovies']}\n",
    "        \n",
    "        RMSE,MAE,R2 = RegressionModel(vocScreeningDict, modelSave)\n",
    "        resultsList.append([False, voc, RMSE,MAE,R2])\n",
    "        RMSE,MAE,R2 = RegressionModel(vocRandomisedScreeningDict, modelSave)\n",
    "        resultsList.append([True, voc, RMSE,MAE,R2])\n",
    "        \n",
    "#create results Df\n",
    "resultsDf = pd.DataFrame(resultsList, columns=resultsHeader)"
   ]
  },
  {
   "cell_type": "code",
   "execution_count": 130,
   "metadata": {},
   "outputs": [],
   "source": [
    "resultsDf.to_excel(\"results.xlsx\") \n",
    "resultsDf.to_csv('results.csv, sep=',', encoding='utf-8')"
   ]
  }
 ],
 "metadata": {
  "kernelspec": {
   "display_name": "Python 3",
   "language": "python",
   "name": "python3"
  },
  "language_info": {
   "codemirror_mode": {
    "name": "ipython",
    "version": 3
   },
   "file_extension": ".py",
   "mimetype": "text/x-python",
   "name": "python",
   "nbconvert_exporter": "python",
   "pygments_lexer": "ipython3",
   "version": "3.6.5"
  }
 },
 "nbformat": 4,
 "nbformat_minor": 2
}
