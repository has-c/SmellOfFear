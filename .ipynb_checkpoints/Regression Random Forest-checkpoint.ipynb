{
 "cells": [
  {
   "cell_type": "code",
   "execution_count": 1,
   "metadata": {},
   "outputs": [],
   "source": [
    "import pandas as pd\n",
    "import numpy as np\n",
    "\n",
    "import pickle\n",
    "\n",
    "from sklearn.ensemble import RandomForestRegressor\n",
    "from sklearn.model_selection import train_test_split\n",
    "from sklearn.preprocessing import StandardScaler\n",
    "from sklearn import metrics"
   ]
  },
  {
   "cell_type": "code",
   "execution_count": 2,
   "metadata": {},
   "outputs": [],
   "source": [
    "#frames were collected at 1/3fps so for a 30 second period there are 10 frames. This function just groups the \n",
    "#dominant frame colour or shade components to within their respective intervals\n",
    "def grouping(visualList):\n",
    "    movieVisuals = list()\n",
    "    for index in range(0, int(len(visualList)/10)):\n",
    "        segment = visualList[index*10:index*10+10]\n",
    "        movieVisuals.append(segment)\n",
    "    return movieVisuals\n",
    "\n",
    "def processVisuals(movieVisualData, runtime, isColour):\n",
    "    visualDataIntervals = grouping(movieVisualData)\n",
    "    #the visual data also has the credits accounted for so remove them\n",
    "    visualDataIntervals = visualDataIntervals[:runtime]\n",
    "    #create a dataframe \n",
    "    if isColour: \n",
    "        #create a dominant colour dataframe\n",
    "        framesPerInterval = 10\n",
    "        header = list();\n",
    "        for i in range(1,framesPerInterval+1):\n",
    "            header = header + ['R'+str(i), 'G' + str(i),  'B'+str(i)]\n",
    "    else: #shade object to be parsed\n",
    "        framesPerInterval = 10\n",
    "        header = ['S' + str(x) for x in range(1,framesPerInterval+1)]\n",
    "    \n",
    "    visualDf = pd.DataFrame(columns=header)\n",
    "    #assemble the dataframe\n",
    "    for segment in visualDataIntervals:\n",
    "        index = visualDataIntervals.index(segment)\n",
    "        colourRow = list()\n",
    "        for colour in segment:\n",
    "            if isColour:\n",
    "                colourRow = colourRow + [colour[0], colour[1], colour[2]]\n",
    "            else:\n",
    "                colourRow = colourRow + [colour[0]]\n",
    "        #assign that colour row to the dataframe\n",
    "        visualDf.loc[index] = colourRow\n",
    "            \n",
    "    return visualDf\n",
    "\n",
    "def processAudio(runtime, audioFeatures):\n",
    "    audioFeatures = list(audio.keys())\n",
    "\n",
    "    audioDf = pd.DataFrame(columns=[])        \n",
    "    for key in audioFeatures:\n",
    "        audio[key] = audio[key][:runtime]\n",
    "\n",
    "        #assemble df \n",
    "        #create header\n",
    "        if key != 'tempo':\n",
    "            header = [key + str(x) for x in range(1, len(audio[key][0])+1)]\n",
    "        else:\n",
    "            header = ['tempo']\n",
    "\n",
    "        audioFeatureDf = pd.DataFrame(columns=header)\n",
    "        for index in range(0, len(audio[key])):\n",
    "            feature = audio[key][index]\n",
    "            audioFeatureDf.loc[index] = feature\n",
    "\n",
    "        #concatenate featureDf to audioDf\n",
    "        audioDf = pd.concat([audioDf,audioFeatureDf], axis=1)\n",
    "    \n",
    "    return audioDf\n",
    "\n",
    "def processSubtitles(subs):\n",
    "    header = ['sentiment', 'sentiment value']\n",
    "    subSentimentDf = pd.DataFrame(columns=header)\n",
    "    for sentimentIndex in range(0, len(subs)):\n",
    "        sentiment = subs[sentimentIndex]\n",
    "        if len(sentiment) != 0:\n",
    "            subSentimentDf.loc[sentimentIndex] = [sentiment['sentiment'], sentiment['sentimentValue']]\n",
    "        else:\n",
    "            subSentimentDf.loc[sentimentIndex] = [np.NaN, np.NaN]\n",
    "    \n",
    "    return subSentimentDf"
   ]
  },
  {
   "cell_type": "code",
   "execution_count": 4,
   "metadata": {},
   "outputs": [
    {
     "ename": "FileNotFoundError",
     "evalue": "[Errno 2] No such file or directory: 'Pickle Objects/normalisedVOC.p'",
     "output_type": "error",
     "traceback": [
      "\u001b[0;31m---------------------------------------------------------------------------\u001b[0m",
      "\u001b[0;31mFileNotFoundError\u001b[0m                         Traceback (most recent call last)",
      "\u001b[0;32m<ipython-input-4-fafd268d0114>\u001b[0m in \u001b[0;36m<module>\u001b[0;34m()\u001b[0m\n\u001b[1;32m      4\u001b[0m \u001b[0;34m\u001b[0m\u001b[0m\n\u001b[1;32m      5\u001b[0m \u001b[0;31m#import vocs\u001b[0m\u001b[0;34m\u001b[0m\u001b[0;34m\u001b[0m\u001b[0m\n\u001b[0;32m----> 6\u001b[0;31m \u001b[0mvocDict\u001b[0m \u001b[0;34m=\u001b[0m \u001b[0mpickle\u001b[0m\u001b[0;34m.\u001b[0m\u001b[0mload\u001b[0m\u001b[0;34m(\u001b[0m\u001b[0mopen\u001b[0m\u001b[0;34m(\u001b[0m\u001b[0;34m\"Pickle Objects/normalisedVOC.p\"\u001b[0m\u001b[0;34m,\u001b[0m \u001b[0;34m\"rb\"\u001b[0m \u001b[0;34m)\u001b[0m\u001b[0;34m)\u001b[0m \u001b[0;31m#dictionary object that contains the vocs\u001b[0m\u001b[0;34m\u001b[0m\u001b[0m\n\u001b[0m\u001b[1;32m      7\u001b[0m \u001b[0;34m\u001b[0m\u001b[0m\n\u001b[1;32m      8\u001b[0m \u001b[0;31m#import movie runtimes\u001b[0m\u001b[0;34m\u001b[0m\u001b[0;34m\u001b[0m\u001b[0m\n",
      "\u001b[0;31mFileNotFoundError\u001b[0m: [Errno 2] No such file or directory: 'Pickle Objects/normalisedVOC.p'"
     ]
    }
   ],
   "source": [
    "#user macros\n",
    "windowedVOCs = False\n",
    "lengthOfWindow = 10\n",
    "\n",
    "#import vocs\n",
    "vocDict = pickle.load(open(\"Pickle Objects/normalisedVOC.p\", \"rb\" )) #dictionary object that contains the vocs\n",
    "\n",
    "#import movie runtimes\n",
    "movieRuntimesPath = 'Numerical Data/movie_runtimes.csv'\n",
    "movieRuntimeDf = pd.read_csv(movieRuntimesPath, usecols = ['movie', 'runtime (mins)', 'effective runtime'])\n",
    "movieList = list(movieRuntimeDf['movie'])\n",
    "\n",
    "#overall feature and labels df\n",
    "featureDf = pd.DataFrame([]) #film feature dataframe\n",
    "labelDf = pd.DataFrame([]) #voc dataframe\n",
    "\n",
    "#import pickle objects for movies and then assemble the dataframes  \n",
    "for movie in movieList:\n",
    "\n",
    "    #load pickle feauture objects\n",
    "    featurePath = 'Pickle Objects/Audio Feature Pickle Objects/' + movie + '.p'\n",
    "    audio = pickle.load(open(featurePath, \"rb\" )) \n",
    "    featurePath = 'Pickle Objects/Colour Pickle Objects/' + movie + '.p'\n",
    "    colour = pickle.load(open(featurePath, \"rb\" )) \n",
    "    featurePath = 'Pickle Objects/Shade Pickle Objects/' + movie + '.p'\n",
    "    shade = pickle.load(open(featurePath, \"rb\" )) \n",
    "    featurePath = 'Pickle Objects/Subtitle Sentiment Pickle Objects/' + movie + '.p'\n",
    "    sentiment = pickle.load(open(featurePath, \"rb\" )) \n",
    "\n",
    "    runtime = movieRuntimeDf.loc[movieList.index(movie)]['effective runtime']\n",
    "    colourDf = processVisuals(colour, runtime, True)\n",
    "    shadeDf = processVisuals(shade, runtime, False)\n",
    "    audioDf = processAudio(runtime, audio)\n",
    "    sentimentDf = processSubtitles(sentiment)\n",
    "\n",
    "    inputDf = pd.concat([colourDf,shadeDf,audioDf,sentimentDf], axis = 1)\n",
    "\n",
    "    #output df\n",
    "    screenings = vocDict[movie]\n",
    "    #create overall input and output df\n",
    "    for i in range(0, len(screenings)):\n",
    "        featureDf = pd.concat([featureDf,inputDf])\n",
    "        if not(windowedVOCs):\n",
    "            screening = screenings[i]['CO2']\n",
    "            labelDf = pd.concat([labelDf, screening['CO2']])\n",
    "        else:\n",
    "            #using windowed VOCs\n",
    "            header = ['VOC' + str(x) for x in range(1,lengthOfWindow+1)]\n",
    "            vocWindowDf = pd.DataFrame(columns = header)\n",
    "            for index in range(0, len(screening)):\n",
    "                vocWindow = screening[index]['CO2'].values\n",
    "                vocWindowDf.loc[index] = vocWindow \n",
    "            labelDf = pd.concat([labelDf, vocWindowDf])\n",
    "\n",
    "#change header label on output header\n",
    "labelDf.columns = ['CO2']\n"
   ]
  },
  {
   "cell_type": "code",
   "execution_count": 16,
   "metadata": {},
   "outputs": [],
   "source": [
    "#create training and test datasets\n",
    "features_train, features_test, labels_train, labels_test = train_test_split(features, labels, test_size= 0.20) #80 20 train test split"
   ]
  },
  {
   "cell_type": "code",
   "execution_count": 17,
   "metadata": {},
   "outputs": [],
   "source": [
    "sc = StandardScaler()\n",
    "features_train = sc.fit_transform(features_train)\n",
    "features_test = sc.transform(features_test)"
   ]
  },
  {
   "cell_type": "code",
   "execution_count": 18,
   "metadata": {},
   "outputs": [],
   "source": [
    "regressor = RandomForestRegressor(n_estimators=10000, random_state=0)\n",
    "regressor.fit(features_train, labels_train)\n",
    "labels_pred = regressor.predict(features_test)"
   ]
  },
  {
   "cell_type": "code",
   "execution_count": 20,
   "metadata": {
    "scrolled": true
   },
   "outputs": [
    {
     "name": "stdout",
     "output_type": "stream",
     "text": [
      "Mean Absolute Error: 301.590556257022\n",
      "Mean Squared Error: 138759.64619962405\n",
      "Root Mean Squared Error: 372.5045586293194\n"
     ]
    }
   ],
   "source": [
    "print('Mean Absolute Error:', metrics.mean_absolute_error(labels_test, labels_pred))\n",
    "print('Mean Squared Error:', metrics.mean_squared_error(labels_test, labels_pred))\n",
    "print('Root Mean Squared Error:', np.sqrt(metrics.mean_squared_error(labels_test, labels_pred)))"
   ]
  }
 ],
 "metadata": {
  "kernelspec": {
   "display_name": "Python 3",
   "language": "python",
   "name": "python3"
  },
  "language_info": {
   "codemirror_mode": {
    "name": "ipython",
    "version": 3
   },
   "file_extension": ".py",
   "mimetype": "text/x-python",
   "name": "python",
   "nbconvert_exporter": "python",
   "pygments_lexer": "ipython3",
   "version": "3.6.5"
  }
 },
 "nbformat": 4,
 "nbformat_minor": 2
}
