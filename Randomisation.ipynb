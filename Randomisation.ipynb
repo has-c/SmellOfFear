{
 "cells": [
  {
   "cell_type": "code",
   "execution_count": 1,
   "metadata": {},
   "outputs": [],
   "source": [
    "import pandas as pd\n",
    "import numpy as np\n",
    "import pickle\n",
    "import random\n",
    "import copy\n",
    "\n",
    "from RegressionRF import RegressionModel\n",
    "\n",
    "import openpyxl"
   ]
  },
  {
   "cell_type": "code",
   "execution_count": 2,
   "metadata": {},
   "outputs": [],
   "source": [
    "#read in the various csvs\n",
    "#2013 Dataset\n",
    "vocPath = 'Numerical Data/2013VOCData.csv'\n",
    "voc2013DfAll = pd.read_csv(vocPath, header = 0, nrows = 74208, low_memory=False)\n",
    "movieScreeningsPath = 'Numerical Data/screening_times.csv'\n",
    "movingScreeningsDf = pd.read_csv(movieScreeningsPath, usecols = ['scheduled','movie','filled %'])\n",
    "movieRuntimesPath = 'Numerical Data/movie_runtimes.csv'\n",
    "movieRuntimeDf = pd.read_csv(movieRuntimesPath, usecols = ['movie', 'runtime (mins)', 'effective runtime'])\n",
    "#2015 Dataset\n",
    "starWarsPath = 'Numerical Data/Star Wars-The Force Awakens.csv'\n",
    "starWarsScreeningDf = pd.read_csv(starWarsPath)\n",
    "imOffThenPath = 'Numerical Data/I\\'m Off Then.csv'\n",
    "imOffThenScreeningDf = pd.read_csv(imOffThenPath)\n",
    "helpIShrunkTheTeacherPath = 'Numerical Data/Help, I Shrunk My Teacher.csv'\n",
    "helpIShrunkTheTeacherScreeningDf = pd.read_csv(helpIShrunkTheTeacherPath)\n",
    "vocPath = 'Numerical Data/2015VOCData.csv'\n",
    "voc2015DfAll = pd.read_csv(vocPath)\n",
    "#remove first column of 2015 voc df as its not used\n",
    "voc2015DfAll.drop(\"Unnamed: 0\", axis=1, inplace=True) \n",
    "\n",
    "#import co2Slice pickle objects\n",
    "slicePath = 'Pickle Objects/CO2SliceDict.p'\n",
    "sliceDict = pickle.load(open(slicePath, \"rb\" )) #contains df of co2 slice indices and matched movie list"
   ]
  },
  {
   "cell_type": "code",
   "execution_count": 3,
   "metadata": {},
   "outputs": [],
   "source": [
    "def generateVOCScreenings(vocDf2013,vocDf2015, sliceDf, matchedMovies):\n",
    "    screeningList = list()\n",
    "    prevStartIndex = 0\n",
    "    startIndex = 0\n",
    "    vocDf = vocDf2013\n",
    "    for index in range(0, len(matchedMovies)):\n",
    "        \n",
    "        if startIndex == 371: #the 2015 df starts at this index\n",
    "            vocDf = vocDf2015\n",
    "        \n",
    "        startIndex = sliceDf.loc[index]['start']\n",
    "        endIndex = sliceDf.loc[index]['end']\n",
    "        screening = vocDf.loc[startIndex:endIndex,:]\n",
    "        screeningList.append(screening)\n",
    "        \n",
    "        prevStartIndex = startIndex\n",
    "        \n",
    "    return screeningList"
   ]
  },
  {
   "cell_type": "code",
   "execution_count": 4,
   "metadata": {},
   "outputs": [],
   "source": [
    "def normalisation(vocScreenings, voc):\n",
    "    normalisedVOCList = list()\n",
    "    for screening in vocScreenings:\n",
    "        normalisedVOCFrame = copy.deepcopy(screening)\n",
    "        normalisedVOCFrame = normalisedVOCFrame.values/max(screening.values)\n",
    "        normalisedVOCFrame = normalisedVOCFrame.flatten()\n",
    "        normalisedScreening= pd.DataFrame.from_dict({voc:normalisedVOCFrame})\n",
    "        normalisedVOCList.append(normalisedScreening)\n",
    "    return normalisedVOCList"
   ]
  },
  {
   "cell_type": "code",
   "execution_count": 5,
   "metadata": {},
   "outputs": [],
   "source": [
    "#some vocs dont have the recorded screenings so remove then\n",
    "#then remove those same screenings from the randomisedScreeningList\n",
    "def emptyScreenings(screenings, randomisedScreenings, matchedMovies):\n",
    "    screeningList = list()\n",
    "    randomScreeningList = list()\n",
    "    movieList = list()\n",
    "    for screeningIndex in range(0, len(screenings)):\n",
    "        if not(np.isnan(screenings[screeningIndex].values).all()):\n",
    "            screeningList.append(screenings[screeningIndex])\n",
    "            randomScreeningList.append(randomisedScreenings[screeningIndex])\n",
    "            movieList.append(matchedMovies[screeningIndex])\n",
    "    return screeningList,randomScreeningList,movieList"
   ]
  },
  {
   "cell_type": "code",
   "execution_count": 6,
   "metadata": {},
   "outputs": [],
   "source": [
    "#the randomisedScreenings have NaN instances within the \n",
    "def replaceNaNInRandomisedScreenings(randomisedScreenings,vocList):\n",
    "    for screeningIndex in range(0, len(randomisedScreenings)):\n",
    "        if np.isnan(randomisedScreenings[screeningIndex].values).any():\n",
    "            #the screening has some NaN instances then replace with random values\n",
    "            for vocIndex in range(0, len(randomisedScreenings[screeningIndex].values)):\n",
    "                voc = randomisedScreenings[screeningIndex].values[vocIndex]\n",
    "                if np.isnan(voc[0]):\n",
    "                    randomIndex = random.randint(0,len(vocList+1)) #generate a random number\n",
    "                    while np.isnan(vocList[randomIndex]):\n",
    "                        #continue generating random numbers if NaN was returned \n",
    "                        randomIndex = random.randint(0,len(vocList+1))\n",
    "\n",
    "                    randomisedScreenings[screeningIndex].values[vocIndex] = vocList[randomIndex]\n",
    "\n",
    "    return randomisedScreenings"
   ]
  },
  {
   "cell_type": "code",
   "execution_count": 7,
   "metadata": {},
   "outputs": [],
   "source": [
    "#user macros\n",
    "voc = 'CO2'\n",
    "vocSave = False\n",
    "modelSave = False\n",
    "\n",
    "#results df\n",
    "resultsHeader = ['RandomState','VOC','RMSE', 'MAE', 'R2']\n",
    "resultsList = list()"
   ]
  },
  {
   "cell_type": "code",
   "execution_count": null,
   "metadata": {},
   "outputs": [
    {
     "name": "stdout",
     "output_type": "stream",
     "text": [
      "I'm Off Then\n",
      "Help, I Shrunk My Teacher\n",
      "Finished Loading Film Features\n",
      "Finished Creating Feature & Label Dataframes\n",
      "Train Test Split\n",
      "Train Model\n"
     ]
    }
   ],
   "source": [
    "for voc in voc2015DfAll.columns:\n",
    "    if voc == 'Time':\n",
    "        continue\n",
    "    elif voc == 'm18.0338':\n",
    "        break\n",
    "    else:\n",
    "        try:\n",
    "            indexMask = list(voc2013DfAll.columns).index(voc)\n",
    "        except ValueError: #the voc isnt within the 2013 VOC dataset\n",
    "            continue \n",
    "        \n",
    "        #create normal voc screening list\n",
    "        vocDf2013 = voc2013DfAll.loc[:,[voc]]\n",
    "        vocDf2015 = voc2015DfAll.loc[:,[voc]]\n",
    "        screeningList = generateVOCScreenings(vocDf2013,vocDf2015, sliceDict['sliceDf'], sliceDict['matchedMovies'])\n",
    "        #create randomised voc list\n",
    "        voc2013RandomisedList = copy.deepcopy(list(vocDf2013[voc]))\n",
    "        voc2015RandomisedList = copy.deepcopy(list(vocDf2015[voc]))\n",
    "        random.shuffle(voc2013RandomisedList)\n",
    "        random.shuffle(voc2015RandomisedList)\n",
    "        vocDf2013Randomised = pd.DataFrame.from_dict({voc:voc2013RandomisedList})\n",
    "        vocDf2015Randomised = pd.DataFrame.from_dict({voc:voc2015RandomisedList})\n",
    "        randomisedScreeningList = generateVOCScreenings(vocDf2013Randomised, vocDf2015Randomised, sliceDict['sliceDf'], sliceDict['matchedMovies'])\n",
    "        #remove empty screenings from the list\n",
    "        matchedMovies = copy.deepcopy(sliceDict['matchedMovies'])\n",
    "        screeningList, randomisedScreeningList, matchedMovies = emptyScreenings(screeningList, randomisedScreeningList, matchedMovies)\n",
    "        #randomised screenings will have some NaN instances within then so replace those NaN instances with randomly selected VOC\n",
    "        entireVocList = np.append(vocDf2013.values, vocDf2015.values)\n",
    "        randomisedScreeningList = replaceNaNInRandomisedScreenings(randomisedScreeningList,entireVocList)\n",
    "        #perform normalisation\n",
    "        screeningList = normalisation(screeningList, voc)\n",
    "        randomisedScreeningList = normalisation(randomisedScreeningList, voc)\n",
    "        \n",
    "        vocScreeningDict = {'screenings':screeningList, 'matchedMovies':matchedMovies}\n",
    "        vocRandomisedScreeningDict = {'screenings':randomisedScreeningList, 'matchedMovies':matchedMovies}\n",
    "        \n",
    "        RMSE,MAE,R2 = RegressionModel(vocScreeningDict, modelSave,False,False, voc)\n",
    "        resultsList.append([False, voc, RMSE,MAE,R2])\n",
    "        RMSE,MAE,R2 = RegressionModel(vocRandomisedScreeningDict, modelSave,False,False, voc)\n",
    "        resultsList.append([True, voc, RMSE,MAE,R2])\n",
    "        \n",
    "#create results Df\n",
    "resultsDf = pd.DataFrame(resultsList,columns=resultsHeader)\n",
    "#write df to output file\n",
    "resultsDf.to_excel(\"results.xlsx\") \n",
    "resultsDf.to_csv('results.csv, sep=',', encoding='utf-8')"
   ]
  },
  {
   "cell_type": "code",
   "execution_count": 16,
   "metadata": {},
   "outputs": [
    {
     "data": {
      "text/plain": [
       "[[False,\n",
       "  'CO2',\n",
       "  0.10639356295340488,\n",
       "  0.061420077161169276,\n",
       "  0.09052054587181613],\n",
       " [True, 'CO2', 0.1860613961720092, 0.1430624414963305, -0.03282055780749138]]"
      ]
     },
     "execution_count": 16,
     "metadata": {},
     "output_type": "execute_result"
    }
   ],
   "source": [
    "resultsList"
   ]
  },
  {
   "cell_type": "code",
   "execution_count": 19,
   "metadata": {},
   "outputs": [],
   "source": [
    "#create results Df\n",
    "resultsDf = pd.DataFrame(resultsList,columns=resultsHeader)"
   ]
  },
  {
   "cell_type": "code",
   "execution_count": null,
   "metadata": {},
   "outputs": [],
   "source": []
  },
  {
   "cell_type": "code",
   "execution_count": null,
   "metadata": {},
   "outputs": [],
   "source": [
    "#         vocScreeningDict = {'screenings':screeningList, 'matchedMovies':sliceDict['matchedMovies']}\n",
    "#         vocRandomisedScreeningDict = {'screenings':randomisedScreeningList, 'matchedMovies':sliceDict['matchedMovies']}\n",
    "        \n",
    "#         RMSE,MAE,R2 = RegressionModel(vocScreeningDict, modelSave)\n",
    "#         resultsList.append([False, voc, RMSE,MAE,R2])\n",
    "#         RMSE,MAE,R2 = RegressionModel(vocRandomisedScreeningDict, modelSave)\n",
    "#         resultsList.append([True, voc, RMSE,MAE,R2])\n",
    "        \n",
    "#create results Df\n",
    "# resultsDf = pd.DataFr"
   ]
  },
  {
   "cell_type": "code",
   "execution_count": 130,
   "metadata": {},
   "outputs": [],
   "source": [
    "resultsDf.to_excel(\"results.xlsx\") \n",
    "resultsDf.to_csv('results.csv, sep=',', encoding='utf-8')"
   ]
  }
 ],
 "metadata": {
  "kernelspec": {
   "display_name": "Python 3",
   "language": "python",
   "name": "python3"
  },
  "language_info": {
   "codemirror_mode": {
    "name": "ipython",
    "version": 3
   },
   "file_extension": ".py",
   "mimetype": "text/x-python",
   "name": "python",
   "nbconvert_exporter": "python",
   "pygments_lexer": "ipython3",
   "version": "3.6.5"
  }
 },
 "nbformat": 4,
 "nbformat_minor": 2
}
