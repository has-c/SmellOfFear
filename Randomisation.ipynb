{
 "cells": [
  {
   "cell_type": "code",
   "execution_count": 1,
   "metadata": {},
   "outputs": [],
   "source": [
    "import pandas as pd\n",
    "import numpy as np\n",
    "import pickle\n",
    "import random\n",
    "import copy\n",
    "from math import trunc\n",
    "from RegressionRF import RegressionModel\n",
    "np.seterr(divide='ignore', invalid='ignore')\n",
    "import openpyxl"
   ]
  },
  {
   "cell_type": "code",
   "execution_count": 8,
   "metadata": {},
   "outputs": [
    {
     "ename": "FileNotFoundError",
     "evalue": "[Errno 2] File b'Numerical Data/2013VOCData.csv' does not exist: b'Numerical Data/2013VOCData.csv'",
     "output_type": "error",
     "traceback": [
      "\u001b[0;31m---------------------------------------------------------------------------\u001b[0m",
      "\u001b[0;31mFileNotFoundError\u001b[0m                         Traceback (most recent call last)",
      "\u001b[0;32m<ipython-input-8-9c732a4dd7a6>\u001b[0m in \u001b[0;36m<module>\u001b[0;34m()\u001b[0m\n\u001b[1;32m      2\u001b[0m \u001b[0;31m#2013 Dataset\u001b[0m\u001b[0;34m\u001b[0m\u001b[0;34m\u001b[0m\u001b[0m\n\u001b[1;32m      3\u001b[0m \u001b[0mvocPath\u001b[0m \u001b[0;34m=\u001b[0m \u001b[0;34m'Numerical Data/2013VOCData.csv'\u001b[0m\u001b[0;34m\u001b[0m\u001b[0m\n\u001b[0;32m----> 4\u001b[0;31m \u001b[0mvoc2013DfAll\u001b[0m \u001b[0;34m=\u001b[0m \u001b[0mpd\u001b[0m\u001b[0;34m.\u001b[0m\u001b[0mread_csv\u001b[0m\u001b[0;34m(\u001b[0m\u001b[0mvocPath\u001b[0m\u001b[0;34m,\u001b[0m \u001b[0mheader\u001b[0m \u001b[0;34m=\u001b[0m \u001b[0;36m0\u001b[0m\u001b[0;34m,\u001b[0m \u001b[0mnrows\u001b[0m \u001b[0;34m=\u001b[0m \u001b[0;36m74208\u001b[0m\u001b[0;34m,\u001b[0m \u001b[0mlow_memory\u001b[0m\u001b[0;34m=\u001b[0m\u001b[0;32mFalse\u001b[0m\u001b[0;34m)\u001b[0m\u001b[0;34m\u001b[0m\u001b[0m\n\u001b[0m\u001b[1;32m      5\u001b[0m \u001b[0mmovieScreeningsPath\u001b[0m \u001b[0;34m=\u001b[0m \u001b[0;34m'Numerical Data/screening_times.csv'\u001b[0m\u001b[0;34m\u001b[0m\u001b[0m\n\u001b[1;32m      6\u001b[0m \u001b[0mmovingScreeningsDf\u001b[0m \u001b[0;34m=\u001b[0m \u001b[0mpd\u001b[0m\u001b[0;34m.\u001b[0m\u001b[0mread_csv\u001b[0m\u001b[0;34m(\u001b[0m\u001b[0mmovieScreeningsPath\u001b[0m\u001b[0;34m,\u001b[0m \u001b[0musecols\u001b[0m \u001b[0;34m=\u001b[0m \u001b[0;34m[\u001b[0m\u001b[0;34m'scheduled'\u001b[0m\u001b[0;34m,\u001b[0m\u001b[0;34m'movie'\u001b[0m\u001b[0;34m,\u001b[0m\u001b[0;34m'filled %'\u001b[0m\u001b[0;34m]\u001b[0m\u001b[0;34m)\u001b[0m\u001b[0;34m\u001b[0m\u001b[0m\n",
      "\u001b[0;32m/home/sof/.local/lib/python3.6/site-packages/pandas/io/parsers.py\u001b[0m in \u001b[0;36mparser_f\u001b[0;34m(filepath_or_buffer, sep, delimiter, header, names, index_col, usecols, squeeze, prefix, mangle_dupe_cols, dtype, engine, converters, true_values, false_values, skipinitialspace, skiprows, skipfooter, nrows, na_values, keep_default_na, na_filter, verbose, skip_blank_lines, parse_dates, infer_datetime_format, keep_date_col, date_parser, dayfirst, iterator, chunksize, compression, thousands, decimal, lineterminator, quotechar, quoting, doublequote, escapechar, comment, encoding, dialect, tupleize_cols, error_bad_lines, warn_bad_lines, delim_whitespace, low_memory, memory_map, float_precision)\u001b[0m\n\u001b[1;32m    700\u001b[0m                     skip_blank_lines=skip_blank_lines)\n\u001b[1;32m    701\u001b[0m \u001b[0;34m\u001b[0m\u001b[0m\n\u001b[0;32m--> 702\u001b[0;31m         \u001b[0;32mreturn\u001b[0m \u001b[0m_read\u001b[0m\u001b[0;34m(\u001b[0m\u001b[0mfilepath_or_buffer\u001b[0m\u001b[0;34m,\u001b[0m \u001b[0mkwds\u001b[0m\u001b[0;34m)\u001b[0m\u001b[0;34m\u001b[0m\u001b[0m\n\u001b[0m\u001b[1;32m    703\u001b[0m \u001b[0;34m\u001b[0m\u001b[0m\n\u001b[1;32m    704\u001b[0m     \u001b[0mparser_f\u001b[0m\u001b[0;34m.\u001b[0m\u001b[0m__name__\u001b[0m \u001b[0;34m=\u001b[0m \u001b[0mname\u001b[0m\u001b[0;34m\u001b[0m\u001b[0m\n",
      "\u001b[0;32m/home/sof/.local/lib/python3.6/site-packages/pandas/io/parsers.py\u001b[0m in \u001b[0;36m_read\u001b[0;34m(filepath_or_buffer, kwds)\u001b[0m\n\u001b[1;32m    427\u001b[0m \u001b[0;34m\u001b[0m\u001b[0m\n\u001b[1;32m    428\u001b[0m     \u001b[0;31m# Create the parser.\u001b[0m\u001b[0;34m\u001b[0m\u001b[0;34m\u001b[0m\u001b[0m\n\u001b[0;32m--> 429\u001b[0;31m     \u001b[0mparser\u001b[0m \u001b[0;34m=\u001b[0m \u001b[0mTextFileReader\u001b[0m\u001b[0;34m(\u001b[0m\u001b[0mfilepath_or_buffer\u001b[0m\u001b[0;34m,\u001b[0m \u001b[0;34m**\u001b[0m\u001b[0mkwds\u001b[0m\u001b[0;34m)\u001b[0m\u001b[0;34m\u001b[0m\u001b[0m\n\u001b[0m\u001b[1;32m    430\u001b[0m \u001b[0;34m\u001b[0m\u001b[0m\n\u001b[1;32m    431\u001b[0m     \u001b[0;32mif\u001b[0m \u001b[0mchunksize\u001b[0m \u001b[0;32mor\u001b[0m \u001b[0miterator\u001b[0m\u001b[0;34m:\u001b[0m\u001b[0;34m\u001b[0m\u001b[0m\n",
      "\u001b[0;32m/home/sof/.local/lib/python3.6/site-packages/pandas/io/parsers.py\u001b[0m in \u001b[0;36m__init__\u001b[0;34m(self, f, engine, **kwds)\u001b[0m\n\u001b[1;32m    893\u001b[0m             \u001b[0mself\u001b[0m\u001b[0;34m.\u001b[0m\u001b[0moptions\u001b[0m\u001b[0;34m[\u001b[0m\u001b[0;34m'has_index_names'\u001b[0m\u001b[0;34m]\u001b[0m \u001b[0;34m=\u001b[0m \u001b[0mkwds\u001b[0m\u001b[0;34m[\u001b[0m\u001b[0;34m'has_index_names'\u001b[0m\u001b[0;34m]\u001b[0m\u001b[0;34m\u001b[0m\u001b[0m\n\u001b[1;32m    894\u001b[0m \u001b[0;34m\u001b[0m\u001b[0m\n\u001b[0;32m--> 895\u001b[0;31m         \u001b[0mself\u001b[0m\u001b[0;34m.\u001b[0m\u001b[0m_make_engine\u001b[0m\u001b[0;34m(\u001b[0m\u001b[0mself\u001b[0m\u001b[0;34m.\u001b[0m\u001b[0mengine\u001b[0m\u001b[0;34m)\u001b[0m\u001b[0;34m\u001b[0m\u001b[0m\n\u001b[0m\u001b[1;32m    896\u001b[0m \u001b[0;34m\u001b[0m\u001b[0m\n\u001b[1;32m    897\u001b[0m     \u001b[0;32mdef\u001b[0m \u001b[0mclose\u001b[0m\u001b[0;34m(\u001b[0m\u001b[0mself\u001b[0m\u001b[0;34m)\u001b[0m\u001b[0;34m:\u001b[0m\u001b[0;34m\u001b[0m\u001b[0m\n",
      "\u001b[0;32m/home/sof/.local/lib/python3.6/site-packages/pandas/io/parsers.py\u001b[0m in \u001b[0;36m_make_engine\u001b[0;34m(self, engine)\u001b[0m\n\u001b[1;32m   1120\u001b[0m     \u001b[0;32mdef\u001b[0m \u001b[0m_make_engine\u001b[0m\u001b[0;34m(\u001b[0m\u001b[0mself\u001b[0m\u001b[0;34m,\u001b[0m \u001b[0mengine\u001b[0m\u001b[0;34m=\u001b[0m\u001b[0;34m'c'\u001b[0m\u001b[0;34m)\u001b[0m\u001b[0;34m:\u001b[0m\u001b[0;34m\u001b[0m\u001b[0m\n\u001b[1;32m   1121\u001b[0m         \u001b[0;32mif\u001b[0m \u001b[0mengine\u001b[0m \u001b[0;34m==\u001b[0m \u001b[0;34m'c'\u001b[0m\u001b[0;34m:\u001b[0m\u001b[0;34m\u001b[0m\u001b[0m\n\u001b[0;32m-> 1122\u001b[0;31m             \u001b[0mself\u001b[0m\u001b[0;34m.\u001b[0m\u001b[0m_engine\u001b[0m \u001b[0;34m=\u001b[0m \u001b[0mCParserWrapper\u001b[0m\u001b[0;34m(\u001b[0m\u001b[0mself\u001b[0m\u001b[0;34m.\u001b[0m\u001b[0mf\u001b[0m\u001b[0;34m,\u001b[0m \u001b[0;34m**\u001b[0m\u001b[0mself\u001b[0m\u001b[0;34m.\u001b[0m\u001b[0moptions\u001b[0m\u001b[0;34m)\u001b[0m\u001b[0;34m\u001b[0m\u001b[0m\n\u001b[0m\u001b[1;32m   1123\u001b[0m         \u001b[0;32melse\u001b[0m\u001b[0;34m:\u001b[0m\u001b[0;34m\u001b[0m\u001b[0m\n\u001b[1;32m   1124\u001b[0m             \u001b[0;32mif\u001b[0m \u001b[0mengine\u001b[0m \u001b[0;34m==\u001b[0m \u001b[0;34m'python'\u001b[0m\u001b[0;34m:\u001b[0m\u001b[0;34m\u001b[0m\u001b[0m\n",
      "\u001b[0;32m/home/sof/.local/lib/python3.6/site-packages/pandas/io/parsers.py\u001b[0m in \u001b[0;36m__init__\u001b[0;34m(self, src, **kwds)\u001b[0m\n\u001b[1;32m   1851\u001b[0m         \u001b[0mkwds\u001b[0m\u001b[0;34m[\u001b[0m\u001b[0;34m'usecols'\u001b[0m\u001b[0;34m]\u001b[0m \u001b[0;34m=\u001b[0m \u001b[0mself\u001b[0m\u001b[0;34m.\u001b[0m\u001b[0musecols\u001b[0m\u001b[0;34m\u001b[0m\u001b[0m\n\u001b[1;32m   1852\u001b[0m \u001b[0;34m\u001b[0m\u001b[0m\n\u001b[0;32m-> 1853\u001b[0;31m         \u001b[0mself\u001b[0m\u001b[0;34m.\u001b[0m\u001b[0m_reader\u001b[0m \u001b[0;34m=\u001b[0m \u001b[0mparsers\u001b[0m\u001b[0;34m.\u001b[0m\u001b[0mTextReader\u001b[0m\u001b[0;34m(\u001b[0m\u001b[0msrc\u001b[0m\u001b[0;34m,\u001b[0m \u001b[0;34m**\u001b[0m\u001b[0mkwds\u001b[0m\u001b[0;34m)\u001b[0m\u001b[0;34m\u001b[0m\u001b[0m\n\u001b[0m\u001b[1;32m   1854\u001b[0m         \u001b[0mself\u001b[0m\u001b[0;34m.\u001b[0m\u001b[0munnamed_cols\u001b[0m \u001b[0;34m=\u001b[0m \u001b[0mself\u001b[0m\u001b[0;34m.\u001b[0m\u001b[0m_reader\u001b[0m\u001b[0;34m.\u001b[0m\u001b[0munnamed_cols\u001b[0m\u001b[0;34m\u001b[0m\u001b[0m\n\u001b[1;32m   1855\u001b[0m \u001b[0;34m\u001b[0m\u001b[0m\n",
      "\u001b[0;32mpandas/_libs/parsers.pyx\u001b[0m in \u001b[0;36mpandas._libs.parsers.TextReader.__cinit__\u001b[0;34m()\u001b[0m\n",
      "\u001b[0;32mpandas/_libs/parsers.pyx\u001b[0m in \u001b[0;36mpandas._libs.parsers.TextReader._setup_parser_source\u001b[0;34m()\u001b[0m\n",
      "\u001b[0;31mFileNotFoundError\u001b[0m: [Errno 2] File b'Numerical Data/2013VOCData.csv' does not exist: b'Numerical Data/2013VOCData.csv'"
     ]
    }
   ],
   "source": [
    "#read in the various csvs\n",
    "#2013 Dataset\n",
    "vocPath = 'Numerical Data/2013VOCData.csv'\n",
    "voc2013DfAll = pd.read_csv(vocPath, header = 0, nrows = 74208, low_memory=False)\n",
    "movieScreeningsPath = 'Numerical Data/screening_times.csv'\n",
    "movingScreeningsDf = pd.read_csv(movieScreeningsPath, usecols = ['scheduled','movie','filled %'])\n",
    "movieRuntimesPath = 'Numerical Data/movie_runtimes.csv'\n",
    "movieRuntimeDf = pd.read_csv(movieRuntimesPath, usecols = ['movie', 'runtime (mins)', 'effective runtime'])\n",
    "#2015 Dataset\n",
    "starWarsPath = 'Numerical Data/Star Wars-The Force Awakens.csv'\n",
    "starWarsScreeningDf = pd.read_csv(starWarsPath)\n",
    "imOffThenPath = 'Numerical Data/I\\'m Off Then.csv'\n",
    "imOffThenScreeningDf = pd.read_csv(imOffThenPath)\n",
    "helpIShrunkTheTeacherPath = 'Numerical Data/Help, I Shrunk My Teacher.csv'\n",
    "helpIShrunkTheTeacherScreeningDf = pd.read_csv(helpIShrunkTheTeacherPath)\n",
    "vocPath = 'Numerical Data/2015VOCData.csv'\n",
    "voc2015DfAll = pd.read_csv(vocPath)\n",
    "#remove first column of 2015 voc df as its not used\n",
    "voc2015DfAll.drop(\"Unnamed: 0\", axis=1, inplace=True) \n",
    "\n",
    "#import co2Slice pickle objects\n",
    "slicePath = 'Pickle Objects/CO2SliceDict.p'\n",
    "sliceDict = pickle.load(open(slicePath, \"rb\" )) #contains df of co2 slice indices and matched movie list"
   ]
  },
  {
   "cell_type": "code",
   "execution_count": 3,
   "metadata": {},
   "outputs": [],
   "source": [
    "def generateVOCScreenings(vocDf2013,vocDf2015, sliceDf, matchedMovies):\n",
    "    screeningList = list()\n",
    "    prevStartIndex = 0\n",
    "    startIndex = 0\n",
    "    vocDf = vocDf2013\n",
    "    for index in range(0, len(matchedMovies)):\n",
    "        \n",
    "        startIndex = sliceDf.loc[index]['start']\n",
    "        endIndex = sliceDf.loc[index]['end']\n",
    "        if startIndex == 371: #the 2015 df starts at this index\n",
    "            vocDf = vocDf2015\n",
    "        screening = pd.DataFrame(vocDf.iloc[startIndex:endIndex+1,0])\n",
    "        screeningList.append(screening)\n",
    "        \n",
    "        prevStartIndex = startIndex\n",
    "        \n",
    "    return screeningList"
   ]
  },
  {
   "cell_type": "code",
   "execution_count": 4,
   "metadata": {},
   "outputs": [],
   "source": [
    "def normalisation(vocScreenings, voc):\n",
    "    normalisedVOCList = list()\n",
    "    for screening in vocScreenings:\n",
    "        normalisedVOCFrame = copy.deepcopy(screening)\n",
    "        normalisedVOCFrame = normalisedVOCFrame.values/max(screening.values)\n",
    "        normalisedVOCFrame = normalisedVOCFrame.flatten()\n",
    "        normalisedScreening= pd.DataFrame.from_dict({voc:normalisedVOCFrame})\n",
    "        normalisedVOCList.append(normalisedScreening)\n",
    "    return normalisedVOCList"
   ]
  },
  {
   "cell_type": "code",
   "execution_count": 5,
   "metadata": {},
   "outputs": [],
   "source": [
    "#some vocs dont have the recorded screenings so remove then\n",
    "#then remove those same screenings from the randomisedScreeningList\n",
    "def removeNaNScreenings(screenings, randomisedScreenings, matchedMovies):\n",
    "    screeningList = list()\n",
    "    randomScreeningList = list()\n",
    "    movieList = list()\n",
    "    for screeningIndex in range(0, len(screenings)):\n",
    "        if not(np.isnan(screenings[screeningIndex].values).any()):\n",
    "            screeningList.append(screenings[screeningIndex])\n",
    "            randomScreeningList.append(randomisedScreenings[screeningIndex])\n",
    "            movieList.append(matchedMovies[screeningIndex])\n",
    "    return screeningList,randomScreeningList,movieList"
   ]
  },
  {
   "cell_type": "code",
   "execution_count": 6,
   "metadata": {},
   "outputs": [],
   "source": [
    "#the randomisedScreenings have NaN instances within the \n",
    "def replaceNaNInRandomisedScreenings(randomisedScreeningList,entireVocList):\n",
    "    for screeningIndex in range(0, len(randomisedScreeningList)):\n",
    "        if (np.isnan(randomisedScreeningList[screeningIndex].values)).any():\n",
    "            for vocIndex in range(0, len(randomisedScreeningList[screeningIndex].values)):\n",
    "                voc = randomisedScreeningList[screeningIndex].values[vocIndex]\n",
    "                if np.isnan(voc[0]):\n",
    "                    randomIndex = random.randint(0,len(entireVocList)-1)\n",
    "                    while np.isnan(entireVocList[randomIndex]):\n",
    "                            #continue generating random numbers if NaN was returned \n",
    "                            randomIndex = random.randint(0,len(entireVocList)-1)\n",
    "                    randomisedScreeningList[screeningIndex].values[vocIndex] = entireVocList[randomIndex]\n",
    "    return randomisedScreeningList"
   ]
  },
  {
   "cell_type": "code",
   "execution_count": 7,
   "metadata": {},
   "outputs": [],
   "source": [
    "#column header matching issue between 2013 and 2015 \n",
    "#e.g. in 2015 column is m356.0711 vs in 2013 is it m356.0714\n",
    "#assumption being made is that they are the same column so round to 2dp and match\n",
    "def vocRounding(vocDf):\n",
    "    vocList = list()\n",
    "    for index in range(0, len(vocDf.columns)):\n",
    "        if vocDf.columns[index] == 'Time' or vocDf.columns[index] == 'ocs' or vocDf.columns[index] == 'co' or vocDf.columns[index] == 'CO2':\n",
    "            vocList.append(vocDf.columns[index])    \n",
    "        else:\n",
    "            #string slice to get the molar mass\n",
    "            voc = vocDf.columns[index]\n",
    "            mass = (trunc(float(voc[1:])*100))/100 #TRUNCATE TO 2DP\n",
    "            vocList.append(mass)\n",
    "    return vocList"
   ]
  },
  {
   "cell_type": "code",
   "execution_count": 8,
   "metadata": {},
   "outputs": [],
   "source": [
    "#user macros\n",
    "vocSave = False\n",
    "modelSave = False\n",
    "\n",
    "#results df\n",
    "resultsHeader = ['RandomState','VOC','RMSE', 'MAE', 'R2']\n",
    "resultsList = list()"
   ]
  },
  {
   "cell_type": "code",
   "execution_count": 9,
   "metadata": {},
   "outputs": [],
   "source": [
    "voc2015Col = vocRounding(voc2015DfAll)\n",
    "voc2013Col = vocRounding(voc2013DfAll)\n",
    "voc2013Df = copy.deepcopy(voc2013DfAll)\n",
    "voc2015Df = copy.deepcopy(voc2015DfAll)\n",
    "voc2013Df.columns = voc2013Col\n",
    "voc2015Df.columns = voc2015Col\n",
    "\n",
    "vocUseList = list()\n",
    "for vocIndex in range(0, len(voc2015Df.columns)):\n",
    "    voc = voc2015Df.columns[vocIndex]\n",
    "    if voc == 'Time':\n",
    "        continue\n",
    "    else:\n",
    "        try:\n",
    "            indexMask = list(voc2013Df.columns).index(voc)\n",
    "        except ValueError: #the voc isnt within the 2013 VOC dataset\n",
    "            continue \n",
    "            \n",
    "        \n",
    "        #create normal voc screening list\n",
    "        vocDf2013 = voc2013Df.iloc[:,[indexMask]]\n",
    "        vocDf2015 = voc2015Df.iloc[:,[vocIndex]]\n",
    "\n",
    "        screeningList = generateVOCScreenings(vocDf2013,vocDf2015, sliceDict['sliceDf'], sliceDict['matchedMovies'])\n",
    "\n",
    "        matchedMovies = copy.deepcopy(sliceDict['matchedMovies'])\n",
    "        screeningList = normalisation(screeningList, voc)\n",
    "        #create randomised voc list\n",
    "        voc2013RandomisedList = copy.deepcopy(list(vocDf2013[voc]))\n",
    "        voc2015RandomisedList = copy.deepcopy(list(vocDf2015[voc]))\n",
    "        random.shuffle(voc2013RandomisedList)\n",
    "        random.shuffle(voc2015RandomisedList)\n",
    "        vocDf2013Randomised = pd.DataFrame.from_dict({voc:voc2013RandomisedList})\n",
    "        vocDf2015Randomised = pd.DataFrame.from_dict({voc:voc2015RandomisedList})\n",
    "        randomisedScreeningList = generateVOCScreenings(vocDf2013Randomised, vocDf2015Randomised, sliceDict['sliceDf'], sliceDict['matchedMovies'])\n",
    "        screeningList, randomisedScreeningList, matchedMovies = removeNaNScreenings(screeningList, randomisedScreeningList, matchedMovies)\n",
    "        entireVocList = np.append(vocDf2013.values, vocDf2015.values)\n",
    "        randomisedScreeningList = replaceNaNInRandomisedScreenings(randomisedScreeningList,entireVocList)\n",
    "        randomisedScreeningList = normalisation(randomisedScreeningList, voc)     \n",
    "            \n",
    "        vocScreeningDict = {'screenings':screeningList, 'matchedMovies':matchedMovies}\n",
    "        vocRandomisedScreeningDict = {'screenings':randomisedScreeningList, 'matchedMovies':matchedMovies}\n",
    "        vocUseList.append(voc)\n",
    "        \n",
    "#         RMSE,MAE,R2 = RegressionModel(vocScreeningDict, modelSave,False,False, voc)\n",
    "#         resultsList.append([False, voc, RMSE,MAE,R2])\n",
    "#         RMSE,MAE,R2 = RegressionModel(vocRandomisedScreeningDict, modelSave,False,False, voc)\n",
    "#         resultsList.append([True, voc, RMSE,MAE,R2])\n",
    "        \n",
    "# #create results Df\n",
    "# resultsDf = pd.DataFrame(resultsList,columns=resultsHeader)\n",
    "# #write df to output file\n",
    "# resultsDf.to_excel(\"results.xlsx\") \n",
    "# resultsDf.to_csv('results.csv', sep=',', encoding='utf-8')"
   ]
  },
  {
   "cell_type": "code",
   "execution_count": null,
   "metadata": {},
   "outputs": [],
   "source": [
    "len(vocUseList)"
   ]
  },
  {
   "cell_type": "code",
   "execution_count": 130,
   "metadata": {},
   "outputs": [],
   "source": [
    "resultsDf.to_excel(\"results.xlsx\") \n",
    "resultsDf.to_csv('results.csv, sep=',', encoding='utf-8')"
   ]
  }
 ],
 "metadata": {
  "kernelspec": {
   "display_name": "Python 3",
   "language": "python",
   "name": "python3"
  },
  "language_info": {
   "codemirror_mode": {
    "name": "ipython",
    "version": 3
   },
   "file_extension": ".py",
   "mimetype": "text/x-python",
   "name": "python",
   "nbconvert_exporter": "python",
   "pygments_lexer": "ipython3",
   "version": "3.6.5"
  }
 },
 "nbformat": 4,
 "nbformat_minor": 2
}
