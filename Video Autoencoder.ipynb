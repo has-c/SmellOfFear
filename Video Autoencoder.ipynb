{
 "cells": [
  {
   "cell_type": "code",
   "execution_count": 1,
   "metadata": {},
   "outputs": [
    {
     "name": "stderr",
     "output_type": "stream",
     "text": [
      "Using TensorFlow backend.\n"
     ]
    }
   ],
   "source": [
    "from keras.models import load_model\n",
    "import h5py\n",
    "import numpy as np\n",
    "import cv2\n",
    "import pandas as pd\n",
    "import pickle"
   ]
  },
  {
   "cell_type": "markdown",
   "metadata": {},
   "source": [
    "Images are too big to be fed into a neural network. Resize them using ImageMagick Library to 64 by 36 pixels. \n",
    "\n",
    "Remember to drop closing credit scenes"
   ]
  },
  {
   "cell_type": "code",
   "execution_count": 3,
   "metadata": {},
   "outputs": [
    {
     "name": "stdout",
     "output_type": "stream",
     "text": [
      "_________________________________________________________________\n",
      "Layer (type)                 Output Shape              Param #   \n",
      "=================================================================\n",
      "conv3d_1 (Conv3D)            (None, 30, 36, 64, 32)    2624      \n",
      "_________________________________________________________________\n",
      "max_pooling3d_1 (MaxPooling3 (None, 15, 18, 32, 32)    0         \n",
      "_________________________________________________________________\n",
      "conv3d_2 (Conv3D)            (None, 15, 18, 32, 64)    55360     \n",
      "_________________________________________________________________\n",
      "max_pooling3d_2 (MaxPooling3 (None, 7, 9, 16, 64)      0         \n",
      "_________________________________________________________________\n",
      "conv3d_3 (Conv3D)            (None, 7, 9, 16, 64)      110656    \n",
      "_________________________________________________________________\n",
      "up_sampling3d_1 (UpSampling3 (None, 14, 18, 32, 64)    0         \n",
      "_________________________________________________________________\n",
      "conv3d_4 (Conv3D)            (None, 14, 18, 32, 32)    55328     \n",
      "_________________________________________________________________\n",
      "up_sampling3d_2 (UpSampling3 (None, 28, 36, 64, 32)    0         \n",
      "_________________________________________________________________\n",
      "zero_padding3d_1 (ZeroPaddin (None, 30, 36, 64, 32)    0         \n",
      "_________________________________________________________________\n",
      "conv3d_5 (Conv3D)            (None, 30, 36, 64, 3)     2595      \n",
      "=================================================================\n",
      "Total params: 226,563\n",
      "Trainable params: 226,563\n",
      "Non-trainable params: 0\n",
      "_________________________________________________________________\n"
     ]
    }
   ],
   "source": [
    "#load autoencoder\n",
    "autoencoder = load_model('video_autoencoder')\n",
    "autoencoder.summary()"
   ]
  },
  {
   "cell_type": "code",
   "execution_count": 4,
   "metadata": {},
   "outputs": [],
   "source": [
    "#import movie list\n",
    "movieRuntimesPath = 'Numerical Data//movie_runtimes.csv'\n",
    "movieRuntimeDf = pd.read_csv(movieRuntimesPath, usecols = ['movie', 'runtime (mins)', 'effective runtime'], nrows = 9)\n",
    "movieList = list(movieRuntimeDf['movie'])"
   ]
  },
  {
   "cell_type": "code",
   "execution_count": 5,
   "metadata": {},
   "outputs": [
    {
     "data": {
      "text/html": [
       "<div>\n",
       "<style scoped>\n",
       "    .dataframe tbody tr th:only-of-type {\n",
       "        vertical-align: middle;\n",
       "    }\n",
       "\n",
       "    .dataframe tbody tr th {\n",
       "        vertical-align: top;\n",
       "    }\n",
       "\n",
       "    .dataframe thead th {\n",
       "        text-align: right;\n",
       "    }\n",
       "</style>\n",
       "<table border=\"1\" class=\"dataframe\">\n",
       "  <thead>\n",
       "    <tr style=\"text-align: right;\">\n",
       "      <th></th>\n",
       "      <th>movie</th>\n",
       "      <th>runtime (mins)</th>\n",
       "      <th>effective runtime</th>\n",
       "    </tr>\n",
       "  </thead>\n",
       "  <tbody>\n",
       "    <tr>\n",
       "      <th>0</th>\n",
       "      <td>Hobbit 2</td>\n",
       "      <td>160</td>\n",
       "      <td>302</td>\n",
       "    </tr>\n",
       "    <tr>\n",
       "      <th>1</th>\n",
       "      <td>Buddy</td>\n",
       "      <td>90</td>\n",
       "      <td>170</td>\n",
       "    </tr>\n",
       "    <tr>\n",
       "      <th>2</th>\n",
       "      <td>Machete Kills</td>\n",
       "      <td>108</td>\n",
       "      <td>204</td>\n",
       "    </tr>\n",
       "    <tr>\n",
       "      <th>3</th>\n",
       "      <td>Walter Mitty</td>\n",
       "      <td>114</td>\n",
       "      <td>209</td>\n",
       "    </tr>\n",
       "    <tr>\n",
       "      <th>4</th>\n",
       "      <td>Paranormal Activity</td>\n",
       "      <td>101</td>\n",
       "      <td>191</td>\n",
       "    </tr>\n",
       "    <tr>\n",
       "      <th>5</th>\n",
       "      <td>The Hunger Games-Catching Fire</td>\n",
       "      <td>146</td>\n",
       "      <td>272</td>\n",
       "    </tr>\n",
       "    <tr>\n",
       "      <th>6</th>\n",
       "      <td>Star Wars-The Force Awakens</td>\n",
       "      <td>136</td>\n",
       "      <td>254</td>\n",
       "    </tr>\n",
       "    <tr>\n",
       "      <th>7</th>\n",
       "      <td>Help, I Shrunk My Teacher</td>\n",
       "      <td>97</td>\n",
       "      <td>181</td>\n",
       "    </tr>\n",
       "    <tr>\n",
       "      <th>8</th>\n",
       "      <td>I'm Off Then</td>\n",
       "      <td>89</td>\n",
       "      <td>168</td>\n",
       "    </tr>\n",
       "  </tbody>\n",
       "</table>\n",
       "</div>"
      ],
      "text/plain": [
       "                            movie  runtime (mins)  effective runtime\n",
       "0                        Hobbit 2             160                302\n",
       "1                           Buddy              90                170\n",
       "2                   Machete Kills             108                204\n",
       "3                    Walter Mitty             114                209\n",
       "4             Paranormal Activity             101                191\n",
       "5  The Hunger Games-Catching Fire             146                272\n",
       "6     Star Wars-The Force Awakens             136                254\n",
       "7       Help, I Shrunk My Teacher              97                181\n",
       "8                    I'm Off Then              89                168"
      ]
     },
     "execution_count": 5,
     "metadata": {},
     "output_type": "execute_result"
    }
   ],
   "source": [
    "movieRuntimeDf"
   ]
  },
  {
   "cell_type": "code",
   "execution_count": 7,
   "metadata": {
    "scrolled": true
   },
   "outputs": [],
   "source": [
    "width = 64\n",
    "height = 36\n",
    "\n",
    "movieFrameNumbers = dict()\n",
    "movieFrameNumbers['Hobbit 2'] = 9678\n",
    "movieFrameNumbers['Buddy'] = 5450\n",
    "movieFrameNumbers['Machete Kills'] = 6481\n",
    "movieFrameNumbers['Walter Mitty'] = 6875\n",
    "movieFrameNumbers['Paranormal Activity'] = 6065\n",
    "movieFrameNumbers['The Hunger Games-Catching Fire'] = 8775\n",
    "movieFrameNumbers['Star Wars-The Force Awakens'] = 8287\n",
    "movieFrameNumbers[\"Help, I Shrunk My Teacher\"] = 5825\n",
    "movieFrameNumbers[\"I'm Off Then\"] = 5331\n",
    "\n",
    "numOfFramesPerSeq = 30\n",
    "#number of sequences is equal to the effective runtime\n",
    "\n",
    "movieSequenceDict = dict()\n",
    "\n",
    "#load images\n",
    "#create a 5 dimension np array per movie - (num of sequences, 30 frames per section, 36, 64,3)\n",
    "for movie in movieList:\n",
    "    inputPath  = '/home/sof/Notebooks/disk/Features/Autoencoder Movie Frames/' + movie + '/'\n",
    "    movieSeq = np.array([])\n",
    "    for j in range(0, (movieFrameNumbers[movie])//numOfFramesPerSeq):\n",
    "        imgSequence = np.array([])\n",
    "        for imgIndex in range(((j*numOfFramesPerSeq)+1), ((j+1)*numOfFramesPerSeq)+1):\n",
    "            #import image\n",
    "            number = '{:04d}'.format(imgIndex)\n",
    "            photoPath = inputPath + movie + \"_\" + str(number) + '.jpg'\n",
    "            img = cv2.imread(photoPath)\n",
    "            img = np.array(img, dtype=np.uint8)\n",
    "            img = cv2.cv2.cvtColor(img, cv2.COLOR_BGR2RGB)\n",
    "            #concatenate images onto the 4th dimension\n",
    "            if imgIndex == ((j*numOfFramesPerSeq)+1):\n",
    "                #starting new sequence\n",
    "                imgSequence = img\n",
    "                imgSequence = np.expand_dims(imgSequence, axis=0)\n",
    "            else:\n",
    "                #add to the same sequence\n",
    "                img = np.expand_dims(img, axis=0)\n",
    "                imgSequence = np.append(imgSequence, img, axis=0)\n",
    "        #assign sequence to array\n",
    "        if len(movieSeq) == 0: #empty movie sequences\n",
    "            movieSeq = imgSequence\n",
    "            movieSeq = np.expand_dims(movieSeq, axis=0)\n",
    "        else:\n",
    "            imgSequence = np.expand_dims(imgSequence, axis=0)\n",
    "            movieSeq = np.append(movieSeq, imgSequence, axis=0)\n",
    "           \n",
    "    movieSequenceDict[movie] = movieSeq"
   ]
  },
  {
   "cell_type": "code",
   "execution_count": 9,
   "metadata": {},
   "outputs": [],
   "source": [
    "condensedFeaturesDict = dict()\n",
    "for movie in movieList:\n",
    "    movieSequence = movieSequenceDict[movie]\n",
    "    condensedFeatures = autoencoder.predict(movieSequence)\n",
    "    condensedFeaturesDict[movie] = condensedFeatures\n",
    "    #save as pickle objects\n",
    "    savePath = movie + '.p'\n",
    "    pickle.dump(condensedFeatures, open(savePath, \"wb\"))"
   ]
  },
  {
   "cell_type": "code",
   "execution_count": null,
   "metadata": {},
   "outputs": [],
   "source": []
  }
 ],
 "metadata": {
  "kernelspec": {
   "display_name": "Python 3",
   "language": "python",
   "name": "python3"
  },
  "language_info": {
   "codemirror_mode": {
    "name": "ipython",
    "version": 3
   },
   "file_extension": ".py",
   "mimetype": "text/x-python",
   "name": "python",
   "nbconvert_exporter": "python",
   "pygments_lexer": "ipython3",
   "version": "3.6.5"
  }
 },
 "nbformat": 4,
 "nbformat_minor": 2
}
