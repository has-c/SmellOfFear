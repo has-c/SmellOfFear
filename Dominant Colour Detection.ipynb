{
 "cells": [
  {
   "cell_type": "markdown",
   "metadata": {},
   "source": [
    "\n",
    "# Dominant Colour Detection \n",
    "\n",
    "### Author: Hasnain \n",
    "### Date: 9/12/2018\n",
    "\n",
    "<br>\n",
    "Dominant Colour Analysis\n",
    "Source: https://code.likeagirl.io/finding-dominant-colour-on-an-image-b4e075f98097\n",
    "\n",
    "Brightness of frame \n",
    "Use the dominant colour analysis but convert the image to grayscale\n"
   ]
  },
  {
   "cell_type": "code",
   "execution_count": 1,
   "metadata": {},
   "outputs": [],
   "source": [
    "import pandas as pd\n",
    "import numpy as np\n",
    "import matplotlib.pyplot as plt\n",
    "from sklearn.cluster import KMeans\n",
    "import cv2\n",
    "import pickle\n",
    "import copy\n",
    "\n",
    "%matplotlib inline"
   ]
  },
  {
   "cell_type": "code",
   "execution_count": 2,
   "metadata": {},
   "outputs": [],
   "source": [
    "def find_histogram(clt):\n",
    "  \"\"\"\n",
    "  create a histogram with k clusters\n",
    "  :param: clt\n",
    "  :return:hist\n",
    "  \"\"\"\n",
    "  numLabels = np.arange(0, len(np.unique(clt.labels_)) + 1)\n",
    "  (hist, _) = np.histogram(clt.labels_, bins=numLabels)\n",
    "\n",
    "  hist = hist.astype(\"float\")\n",
    "  hist /= hist.sum()\n",
    "\n",
    "  return hist"
   ]
  },
  {
   "cell_type": "code",
   "execution_count": 3,
   "metadata": {},
   "outputs": [],
   "source": [
    "def plot_colors2(hist, centroids):\n",
    "  bar = np.zeros((50, 300, 3), dtype=\"uint8\")\n",
    "  startX = 0\n",
    "\n",
    "  for (percent, color) in zip(hist, centroids):\n",
    "      # plot the relative percentage of each cluster\n",
    "      endX = startX + (percent * 300)\n",
    "      cv2.rectangle(bar, (int(startX), 0), (int(endX), 50),\n",
    "                    color.astype(\"uint8\").tolist(), -1)\n",
    "      startX = endX\n",
    "\n",
    "  # return the bar chart\n",
    "  return bar"
   ]
  },
  {
   "cell_type": "code",
   "execution_count": 4,
   "metadata": {},
   "outputs": [],
   "source": [
    "#import movie list\n",
    "movieRuntimesPath = 'Numerical Data//movie_runtimes.csv'\n",
    "movieRuntimeDf = pd.read_csv(movieRuntimesPath, usecols = ['movie', 'runtime (mins)', 'effective runtime'], nrows = 9)"
   ]
  },
  {
   "cell_type": "code",
   "execution_count": 5,
   "metadata": {},
   "outputs": [],
   "source": [
    "#find dominant colour through K-means clustering\n",
    "\n",
    "def dominantColourEvaluation(movieFrames):\n",
    "    dominantColourList = list()\n",
    "    for img in movieFrames:\n",
    "        clt = KMeans(n_clusters=1)\n",
    "        clt.fit(img)\n",
    "        hist = find_histogram(clt)\n",
    "        bar = plot_colors2(hist, clt.cluster_centers_)\n",
    "        dominantColourList.append(list(bar[0][0]))\n",
    "    return dominantColourList"
   ]
  },
  {
   "cell_type": "code",
   "execution_count": 6,
   "metadata": {},
   "outputs": [],
   "source": [
    "#brightness of frame\n",
    "#find dominant shade through Kmeans clustering \n",
    "\n",
    "def dominantShadeEvaluation(movieGrayFrames):\n",
    "    shadeList = list()\n",
    "    for img in movieGrayFrames:\n",
    "        clt = KMeans(n_clusters=1)\n",
    "        clt.fit(img)\n",
    "        hist = find_histogram(clt)\n",
    "        bar = plot_colors2(hist, clt.cluster_centers_)\n",
    "        shadeList.append(list(bar[0][0]))\n",
    "    return shadeList"
   ]
  },
  {
   "cell_type": "code",
   "execution_count": 7,
   "metadata": {},
   "outputs": [
    {
     "name": "stdout",
     "output_type": "stream",
     "text": [
      "Hobbit 2\n",
      "DOMINANT COLOUR\n",
      "DOMINANT SHADE\n",
      "\n",
      "Buddy\n",
      "DOMINANT COLOUR\n",
      "DOMINANT SHADE\n",
      "\n",
      "Machete Kills\n",
      "DOMINANT COLOUR\n",
      "DOMINANT SHADE\n",
      "\n",
      "Walter Mitty\n",
      "DOMINANT COLOUR\n",
      "DOMINANT SHADE\n",
      "\n",
      "Paranormal Activity\n",
      "DOMINANT COLOUR\n",
      "DOMINANT SHADE\n",
      "\n",
      "The Hunger Games-Catching Fire\n",
      "DOMINANT COLOUR\n",
      "DOMINANT SHADE\n",
      "\n",
      "Star Wars-The Force Awakens\n",
      "DOMINANT COLOUR\n",
      "DOMINANT SHADE\n",
      "\n",
      "I'm Off Then\n",
      "DOMINANT COLOUR\n",
      "DOMINANT SHADE\n",
      "\n",
      "Help, I've Shrunk My Teacher\n",
      "DOMINANT COLOUR\n",
      "DOMINANT SHADE\n",
      "\n"
     ]
    }
   ],
   "source": [
    "#note: frame sampling occurred at 1 frame every 3 seconds\n",
    "#Read in images and perform kmeans for dominant colour/shade clustering\n",
    "\n",
    "movieFrameNumbers = dict()\n",
    "movieFrameNumbers['Hobbit 2'] = 3226\n",
    "movieFrameNumbers['Buddy'] = 1817\n",
    "movieFrameNumbers['Machete Kills'] = 2161\n",
    "movieFrameNumbers['Walter Mitty'] = 2292\n",
    "movieFrameNumbers['Paranormal Activity'] = 2022\n",
    "movieFrameNumbers['The Hunger Games-Catching Fire'] = 2925\n",
    "movieFrameNumbers['Star Wars-The Force Awakens'] = 2762\n",
    "movieFrameNumbers['I\\'m Off Then'] = 0\n",
    "movieFrameNumbers['Help, I\\'ve Shrunk My Teacher'] = 0\n",
    "\n",
    "dominantColour = dict()\n",
    "dominantShade = dict()\n",
    "for movie in movieRuntimeDf['movie'].values:\n",
    "    movieFrameList = list()\n",
    "    movieGrayFrameList = list()\n",
    "    for j in range(1, movieFrameNumbers[movie]+1):\n",
    "        number = '{:04d}'.format(j)\n",
    "        inputPath = 'Features//MovieFrames//' + movie + \"//\" + movie + \"_\" + str(number) + '.jpg'\n",
    "        img = cv2.imread(inputPath)\n",
    "        img = np.array(img, dtype=np.uint8)\n",
    "        #convert BGR image to RGB\n",
    "        img = cv2.cv2.cvtColor(img, cv2.COLOR_BGR2RGB)\n",
    "        #convert RGB to GRAYSCALE\n",
    "        grayImg = cv2.cvtColor(img, cv2.COLOR_RGB2GRAY)\n",
    "        #reshape array from (x, y, 3) to (x*y, 3) \n",
    "        #3 rows of R G B\n",
    "        img = img.reshape((img.shape[0] * img.shape[1],3)) \n",
    "        #reshape array from (x,y,1) to (x*y)    \n",
    "        grayImg = grayImg.reshape((grayImg.shape[0] * grayImg.shape[1],1)) \n",
    "        #append to array\n",
    "        movieFrameList.append(img)\n",
    "        movieGrayFrameList.append(grayImg)\n",
    "    \n",
    "    print(movie)\n",
    "    print('DOMINANT COLOUR')\n",
    "    #movie frames both grey and colour loaded\n",
    "    dominantColourList = dominantColourEvaluation(movieFrameList)\n",
    "    print('DOMINANT SHADE')\n",
    "    dominantShadeList = dominantShadeEvaluation(movieGrayFrameList)\n",
    "    \n",
    "    dominantColour[movie] = copy.deepcopy(dominantColourList)\n",
    "    dominantShade[movie] = copy.deepcopy(dominantShadeList)\n",
    "    print()\n",
    "    "
   ]
  },
  {
   "cell_type": "code",
   "execution_count": 8,
   "metadata": {},
   "outputs": [],
   "source": [
    "pickle.dump(dominantColour, open('dominantColourOfMovies.p', 'wb'))\n",
    "pickle.dump(dominantShade, open('shadeOfMovies.p', 'wb'))"
   ]
  },
  {
   "cell_type": "code",
   "execution_count": null,
   "metadata": {},
   "outputs": [],
   "source": []
  }
 ],
 "metadata": {
  "kernelspec": {
   "display_name": "Python 3",
   "language": "python",
   "name": "python3"
  },
  "language_info": {
   "codemirror_mode": {
    "name": "ipython",
    "version": 3
   },
   "file_extension": ".py",
   "mimetype": "text/x-python",
   "name": "python",
   "nbconvert_exporter": "python",
   "pygments_lexer": "ipython3",
   "version": "3.6.5"
  }
 },
 "nbformat": 4,
 "nbformat_minor": 2
}
