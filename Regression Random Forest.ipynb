{
 "cells": [
  {
   "cell_type": "code",
   "execution_count": 74,
   "metadata": {},
   "outputs": [],
   "source": [
    "import pandas as pd\n",
    "import numpy as np\n",
    "\n",
    "import pickle\n",
    "\n",
    "from sklearn.ensemble import RandomForestRegressor\n",
    "from sklearn.model_selection import train_test_split\n",
    "from sklearn import metrics\n",
    "\n",
    "\n",
    "import copy"
   ]
  },
  {
   "cell_type": "code",
   "execution_count": 75,
   "metadata": {},
   "outputs": [],
   "source": [
    "#frames were collected at 1/3fps so for a 30 second period there are 10 frames. This function just groups the \n",
    "#dominant frame colour or shade components to within their respective intervals\n",
    "def grouping(visualList):\n",
    "    movieVisuals = list()\n",
    "    for index in range(0, int(len(visualList)/10)):\n",
    "        segment = visualList[index*10:index*10+10]\n",
    "        movieVisuals.append(segment)\n",
    "    return movieVisuals"
   ]
  },
  {
   "cell_type": "code",
   "execution_count": 76,
   "metadata": {},
   "outputs": [],
   "source": [
    "def processVisuals(movieVisualData, runtime, isColour):\n",
    "    visualDataIntervals = grouping(movieVisualData)\n",
    "    #the visual data also has the credits accounted for so remove them\n",
    "    visualDataIntervals = visualDataIntervals[:runtime]\n",
    "    #create a dataframe \n",
    "    if isColour: \n",
    "        #create a dominant colour dataframe\n",
    "        framesPerInterval = 10\n",
    "        header = list();\n",
    "        for i in range(1,framesPerInterval+1):\n",
    "            header = header + ['R'+str(i), 'G' + str(i),  'B'+str(i)]\n",
    "    else: #shade object to be parsed\n",
    "        framesPerInterval = 10\n",
    "        header = ['S' + str(x) for x in range(1,framesPerInterval+1)]\n",
    "    \n",
    "    visualDf = pd.DataFrame(columns=header)\n",
    "    #assemble the dataframe\n",
    "    for segment in visualDataIntervals:\n",
    "        index = visualDataIntervals.index(segment)\n",
    "        colourRow = list()\n",
    "        for colour in segment:\n",
    "            if isColour:\n",
    "                colourRow = colourRow + [colour[0], colour[1], colour[2]]\n",
    "            else:\n",
    "                colourRow = colourRow + [colour[0]]\n",
    "        #assign that colour row to the dataframe\n",
    "        visualDf.loc[index] = colourRow\n",
    "    \n",
    "        \n",
    "            \n",
    "    return visualDf"
   ]
  },
  {
   "cell_type": "code",
   "execution_count": 77,
   "metadata": {},
   "outputs": [],
   "source": [
    "def processAudio(runtime, audio):\n",
    "    audioFeatures = list(audio.keys())\n",
    "\n",
    "    audioDf = pd.DataFrame(columns=[])        \n",
    "    for key in audioFeatures:\n",
    "        audio[key] = audio[key][:runtime]\n",
    "\n",
    "        #assemble df \n",
    "        #create header\n",
    "        if key != 'tempo':\n",
    "            header = [key + str(x) for x in range(1, len(audio[key][0])+1)]\n",
    "        else:\n",
    "            header = ['tempo']\n",
    "\n",
    "        audioFeatureDf = pd.DataFrame(columns=header)\n",
    "        for index in range(0, len(audio[key])):\n",
    "            feature = audio[key][index]\n",
    "            audioFeatureDf.loc[index] = np.float16(feature)\n",
    "\n",
    "        #concatenate featureDf to audioDf\n",
    "        audioDf = pd.concat([audioDf,audioFeatureDf], axis=1)\n",
    "    \n",
    "    return audioDf"
   ]
  },
  {
   "cell_type": "code",
   "execution_count": 84,
   "metadata": {},
   "outputs": [],
   "source": [
    "def processSubtitles(subs, effectiveRuntime):\n",
    "    \n",
    "    header = ['sentiment value']\n",
    "    subSentimentDf = pd.DataFrame(columns=header)\n",
    "    for sentimentIndex in range(0, len(subs)):\n",
    "        sentiment = subs[sentimentIndex]\n",
    "        if len(sentiment) != 0:\n",
    "            if sentiment['sentimentValue'] == np.NaN:\n",
    "                print('YES')\n",
    "            else:         \n",
    "                subSentimentDf.loc[sentimentIndex] = [sentiment['sentimentValue']]\n",
    "        else:\n",
    "            subSentimentDf.loc[sentimentIndex] = [-1] #indicates no dialog occurred during the scene\n",
    "        \n",
    "        if len(subSentimentDf) != effectiveRuntime:\n",
    "            #no dialog at the end thus need to fill the rest with -1\n",
    "            for index in range(0, effectiveRuntime-len(subSentimentDf)+1):\n",
    "                 subSentimentDf.loc[index] = [-1]\n",
    "    \n",
    "    return subSentimentDf"
   ]
  },
  {
   "cell_type": "code",
   "execution_count": null,
   "metadata": {},
   "outputs": [],
   "source": [
    "#import vocs\n",
    "vocDict = pickle.load(open(\"Pickle Objects/normalisedScreeningsDict.p\", \"rb\" ))\n",
    "vocDictWindow = pickle.load(open(\"Pickle Objects/normalisedWindowedScreeningsDict.p\", \"rb\" ))\n",
    "\n",
    "#import movie runtimes\n",
    "movieRuntimesPath = 'Numerical Data/movie_runtimes.csv'\n",
    "movieRuntimeDf = pd.read_csv(movieRuntimesPath, usecols = ['movie', 'runtime (mins)', 'effective runtime'])\n",
    "movieList = list(movieRuntimeDf['movie'])\n",
    "\n",
    "movieFeatureDict = dict() #dict contains the movie film features with the keys being the movies\n",
    "#import pickle objects for movies and then assemble the dataframes  \n",
    "for movie in movieList:\n",
    "    try:\n",
    "        #load pickle feauture objects\n",
    "        featurePath = 'Pickle Objects/Audio Feature Pickle Objects/' + movie + '.p'\n",
    "        audio = pickle.load(open(featurePath, \"rb\" )) \n",
    "        featurePath = 'Pickle Objects/Colour Pickle Objects/' + movie + '.p'\n",
    "        colour = pickle.load(open(featurePath, \"rb\" )) \n",
    "        featurePath = 'Pickle Objects/Shade Pickle Objects/' + movie + '.p'\n",
    "        shade = pickle.load(open(featurePath, \"rb\" )) \n",
    "        featurePath = 'Pickle Objects/Subtitle Sentiment Pickle Objects/' + movie + '.p'\n",
    "        sentiment = pickle.load(open(featurePath, \"rb\" )) \n",
    "\n",
    "        runtime = movieRuntimeDf.loc[movieList.index(movie)]['effective runtime']\n",
    "        colourDf = processVisuals(colour, runtime, True)\n",
    "        shadeDf = processVisuals(shade, runtime, False)\n",
    "        audioDf = processAudio(runtime, audio)\n",
    "        sentimentDf = processSubtitles(sentiment,runtime)\n",
    "\n",
    "        inputDf = pd.concat([colourDf,shadeDf,audioDf,sentimentDf], axis = 1)\n",
    "        movieFeatureDict[movie] = inputDf\n",
    "    except FileNotFoundError:\n",
    "        print(movie)\n"
   ]
  },
  {
   "cell_type": "code",
   "execution_count": null,
   "metadata": {},
   "outputs": [],
   "source": [
    "#overall feature and labels df\n",
    "featureDf = pd.DataFrame([]) #film feature dataframe\n",
    "labelDf = pd.DataFrame([]) #voc dataframe\n",
    "\n",
    "#user macros\n",
    "windowedVOCs = False\n",
    "lengthOfWindow = 10"
   ]
  },
  {
   "cell_type": "code",
   "execution_count": null,
   "metadata": {},
   "outputs": [],
   "source": [
    "#remove all screenings of im off then and help i shrunk the teacher as at the current time do not have the movies\n",
    "screenings = list()\n",
    "matchedMovies = list()\n",
    "for movieIndex in range(0, len(vocDict['matchedMovies'])):\n",
    "    movie = vocDict['matchedMovies'][movieIndex]\n",
    "    if movie != \"Help, I Shrunk My Teacher\" and movie != \"I'm Off Then\":\n",
    "        #add good screenings to a modified screening list\n",
    "        matchedMovies.append(movie)\n",
    "        screenings.append(vocDict['screenings'][movieIndex])\n",
    "#replace\n",
    "vocDict = dict()\n",
    "vocDict['matchedMovies'] = matchedMovies\n",
    "vocDict['screenings'] = screenings"
   ]
  },
  {
   "cell_type": "code",
   "execution_count": null,
   "metadata": {},
   "outputs": [],
   "source": [
    "movieFeatureDict['Star Wars-The Force Awakens']['sentiment value']"
   ]
  },
  {
   "cell_type": "code",
   "execution_count": 55,
   "metadata": {},
   "outputs": [],
   "source": [
    "#create label and feature df\n",
    "for i in range(0, len(vocDict['screenings'])): \n",
    "    matchedMovie = vocDict['matchedMovies'][i]\n",
    "    featureDf = pd.concat([featureDf, movieFeatureDict[matchedMovie]])\n",
    "    if not(windowedVOCs):\n",
    "        screening = vocDict['screenings'][i]\n",
    "        labelDf = pd.concat([labelDf, screening['CO2']])\n",
    "    else:\n",
    "        screening = vocDictWindow['screenings'][i]\n",
    "        #using windowedVOCsed VOCs\n",
    "        header = ['VOC' + str(x) for x in range(1,lengthOfWindow+1)]\n",
    "        vocWindowDf = pd.DataFrame(columns = header)\n",
    "        for index in range(0, len(screening)):\n",
    "            vocWindow = screening[index]['CO2'].values\n",
    "            vocWindowDf.loc[index] = vocWindow \n",
    "        labelDf = pd.concat([labelDf, vocWindowDf])\n",
    "\n",
    "#relabel column title \n",
    "if not(windowedVOCs):\n",
    "    labelDf.columns = ['VOC']"
   ]
  },
  {
   "cell_type": "code",
   "execution_count": 56,
   "metadata": {},
   "outputs": [],
   "source": [
    "#create training and test datasets\n",
    "featuresTrain, featuresTest, labelsTrain, labelsTest = train_test_split(featureDf, labelDf, test_size= 0.20) #80 20 train test split"
   ]
  },
  {
   "cell_type": "code",
   "execution_count": 57,
   "metadata": {},
   "outputs": [
    {
     "data": {
      "text/plain": [
       "165      2\n",
       "171      2\n",
       "260      2\n",
       "133      2\n",
       "51      -1\n",
       "207      3\n",
       "109      2\n",
       "251    NaN\n",
       "14       2\n",
       "216    NaN\n",
       "33       1\n",
       "135      3\n",
       "156      3\n",
       "207      1\n",
       "166      1\n",
       "142     -1\n",
       "33       1\n",
       "53       1\n",
       "117     -1\n",
       "227      2\n",
       "47       1\n",
       "165      3\n",
       "52       2\n",
       "129     -1\n",
       "49       3\n",
       "34       2\n",
       "159      2\n",
       "32       2\n",
       "63       1\n",
       "12       2\n",
       "      ... \n",
       "203      2\n",
       "22       2\n",
       "110      2\n",
       "217      2\n",
       "131     -1\n",
       "65       1\n",
       "208     -1\n",
       "102      2\n",
       "100      2\n",
       "71       2\n",
       "265      3\n",
       "8        1\n",
       "162      2\n",
       "162     -1\n",
       "239      3\n",
       "176      2\n",
       "34       2\n",
       "121      2\n",
       "28       3\n",
       "24      -1\n",
       "190      1\n",
       "32       2\n",
       "124      1\n",
       "252    NaN\n",
       "230     -1\n",
       "236      2\n",
       "60       3\n",
       "182      3\n",
       "205      2\n",
       "21       2\n",
       "Name: sentiment value, Length: 16766, dtype: object"
      ]
     },
     "execution_count": 57,
     "metadata": {},
     "output_type": "execute_result"
    }
   ],
   "source": [
    "featuresTrain['sentiment value']"
   ]
  },
  {
   "cell_type": "code",
   "execution_count": null,
   "metadata": {},
   "outputs": [],
   "source": [
    "regressor = RandomForestRegressor(n_estimators=10000, random_state=0)\n",
    "regressor.fit(featuresTrain, labelsTrain)\n",
    "labelsPred = regressor.predict(featuresTest)"
   ]
  },
  {
   "cell_type": "code",
   "execution_count": 20,
   "metadata": {
    "scrolled": true
   },
   "outputs": [
    {
     "name": "stdout",
     "output_type": "stream",
     "text": [
      "Mean Absolute Error: 301.590556257022\n",
      "Mean Squared Error: 138759.64619962405\n",
      "Root Mean Squared Error: 372.5045586293194\n"
     ]
    }
   ],
   "source": [
    "print('Mean Absolute Error:', metrics.mean_absolute_error(labels_test, labels_pred))\n",
    "print('Mean Squared Error:', metrics.mean_squared_error(labels_test, labels_pred))\n",
    "print('Root Mean Squared Error:', np.sqrt(metrics.mean_squared_error(labels_test, labels_pred)))"
   ]
  }
 ],
 "metadata": {
  "kernelspec": {
   "display_name": "Python 3",
   "language": "python",
   "name": "python3"
  },
  "language_info": {
   "codemirror_mode": {
    "name": "ipython",
    "version": 3
   },
   "file_extension": ".py",
   "mimetype": "text/x-python",
   "name": "python",
   "nbconvert_exporter": "python",
   "pygments_lexer": "ipython3",
   "version": "3.6.5"
  }
 },
 "nbformat": 4,
 "nbformat_minor": 2
}
