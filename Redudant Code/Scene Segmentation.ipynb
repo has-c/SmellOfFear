{
 "cells": [
  {
   "cell_type": "code",
   "execution_count": 14,
   "metadata": {},
   "outputs": [],
   "source": [
    "import pandas as pd\n",
    "import numpy as np\n",
    "\n",
    "import os\n",
    "\n",
    "import scenedetect\n",
    "from scenedetect.video_manager import VideoManager\n",
    "from scenedetect.scene_manager import SceneManager\n",
    "from scenedetect.frame_timecode import FrameTimecode\n",
    "from scenedetect.stats_manager import StatsManager\n",
    "from scenedetect.detectors import ContentDetector\n",
    "\n",
    "STATS_FILE_PATH = 'testvideo-stats.csv'"
   ]
  },
  {
   "cell_type": "code",
   "execution_count": 16,
   "metadata": {},
   "outputs": [
    {
     "ename": "TypeError",
     "evalue": "detect_scenes() got an unexpected keyword argument 'start_time'",
     "output_type": "error",
     "traceback": [
      "\u001b[0;31m---------------------------------------------------------------------------\u001b[0m",
      "\u001b[0;31mTypeError\u001b[0m                                 Traceback (most recent call last)",
      "\u001b[0;32m<ipython-input-16-4bd777ebfb12>\u001b[0m in \u001b[0;36m<module>\u001b[0;34m()\u001b[0m\n\u001b[1;32m     30\u001b[0m \u001b[0;34m\u001b[0m\u001b[0m\n\u001b[1;32m     31\u001b[0m     \u001b[0;31m# Perform scene detection on video_manager.\u001b[0m\u001b[0;34m\u001b[0m\u001b[0;34m\u001b[0m\u001b[0m\n\u001b[0;32m---> 32\u001b[0;31m     \u001b[0mscene_manager\u001b[0m\u001b[0;34m.\u001b[0m\u001b[0mdetect_scenes\u001b[0m\u001b[0;34m(\u001b[0m\u001b[0mframe_source\u001b[0m\u001b[0;34m=\u001b[0m\u001b[0mvideo_manager\u001b[0m\u001b[0;34m,\u001b[0m\u001b[0mstart_time\u001b[0m\u001b[0;34m=\u001b[0m\u001b[0mstartTime\u001b[0m\u001b[0;34m)\u001b[0m\u001b[0;34m\u001b[0m\u001b[0m\n\u001b[0m\u001b[1;32m     33\u001b[0m \u001b[0;34m\u001b[0m\u001b[0m\n\u001b[1;32m     34\u001b[0m     \u001b[0;31m# Obtain list of detected scenes.\u001b[0m\u001b[0;34m\u001b[0m\u001b[0;34m\u001b[0m\u001b[0m\n",
      "\u001b[0;31mTypeError\u001b[0m: detect_scenes() got an unexpected keyword argument 'start_time'"
     ]
    }
   ],
   "source": [
    "# Create a video_manager point to video file testvideo.mp4. Note that multiple\n",
    "# videos can be appended by simply specifying more file paths in the list\n",
    "# passed to the VideoManager constructor. Note that appending multiple videos\n",
    "# requires that they all have the same frame size, and optionally, framerate.\n",
    "video_manager = VideoManager(['test-video.mp4'])\n",
    "stats_manager = StatsManager()\n",
    "scene_manager = SceneManager(stats_manager)\n",
    "# Add ContentDetector algorithm (constructor takes detector options like threshold).\n",
    "scene_manager.add_detector(ContentDetector())\n",
    "base_timecode = video_manager.get_base_timecode()\n",
    "\n",
    "try:\n",
    "    # If stats file exists, load it.\n",
    "    if os.path.exists(STATS_FILE_PATH):\n",
    "        # Read stats from CSV file opened in read mode:\n",
    "        with open(STATS_FILE_PATH, 'r') as stats_file:\n",
    "            stats_manager.load_from_csv(stats_file, base_timecode)\n",
    "\n",
    "    startTime = base_timecode + 20     # 00:00:00.667\n",
    "    endTime = base_timecode + 20.0     # 00:00:20.000\n",
    "    \n",
    "    # Set video_manager duration to read frames from 00:00:00 to 00:00:20.\n",
    "    video_manager.set_duration(start_time=startTime, end_time=endTime)\n",
    "\n",
    "    # Set downscale factor to improve processing speed (no args means default).\n",
    "    video_manager.set_downscale_factor()\n",
    "\n",
    "    # Start video_manager.\n",
    "    video_manager.start()\n",
    "\n",
    "    # Perform scene detection on video_manager.\n",
    "    scene_manager.detect_scenes(frame_source=video_manager,start_time=startTime)\n",
    "\n",
    "    # Obtain list of detected scenes.\n",
    "    scene_list = scene_manager.get_scene_list(base_timecode)\n",
    "    # Like FrameTimecodes, each scene in the scene_list can be sorted if the\n",
    "    # list of scenes becomes unsorted.\n",
    "\n",
    "    print('List of scenes obtained:')\n",
    "    for i, scene in enumerate(scene_list):\n",
    "        print('    Scene %2d: Start %s / Frame %d, End %s / Frame %d' % (\n",
    "            i+1,\n",
    "            scene[0].get_timecode(), scene[0].get_frames(),\n",
    "            scene[1].get_timecode(), scene[1].get_frames(),))\n",
    "\n",
    "    # We only write to the stats file if a save is required:\n",
    "    if stats_manager.is_save_required():\n",
    "        with open(STATS_FILE_PATH, 'w') as stats_file:\n",
    "            stats_manager.save_to_csv(stats_file, base_timecode)\n",
    "\n",
    "finally:\n",
    "    video_manager.release()"
   ]
  },
  {
   "cell_type": "code",
   "execution_count": null,
   "metadata": {},
   "outputs": [],
   "source": []
  }
 ],
 "metadata": {
  "kernelspec": {
   "display_name": "Python 3",
   "language": "python",
   "name": "python3"
  },
  "language_info": {
   "codemirror_mode": {
    "name": "ipython",
    "version": 3
   },
   "file_extension": ".py",
   "mimetype": "text/x-python",
   "name": "python",
   "nbconvert_exporter": "python",
   "pygments_lexer": "ipython3",
   "version": "3.6.5"
  }
 },
 "nbformat": 4,
 "nbformat_minor": 2
}
