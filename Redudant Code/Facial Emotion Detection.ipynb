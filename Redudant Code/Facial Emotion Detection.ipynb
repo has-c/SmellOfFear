{
 "cells": [
  {
   "cell_type": "code",
   "execution_count": 23,
   "metadata": {},
   "outputs": [
    {
     "data": {
      "text/plain": [
       "'\\nPurpose:\\nAuthor: Hasnain\\nDate: 20/11/2018\\n'"
      ]
     },
     "execution_count": 23,
     "metadata": {},
     "output_type": "execute_result"
    }
   ],
   "source": [
    "\"\"\"\n",
    "Purpose:\n",
    "Author: Hasnain\n",
    "Date: 20/11/2018\n",
    "\"\"\""
   ]
  },
  {
   "cell_type": "code",
   "execution_count": 24,
   "metadata": {},
   "outputs": [],
   "source": [
    "import numpy as np\n",
    "import matplotlib as plt\n",
    "import cv2\n",
    "from PIL import Image\n",
    "import indicoio as ind\n",
    "import pickle\n",
    "\n",
    "%matplotlib inline"
   ]
  },
  {
   "cell_type": "code",
   "execution_count": 25,
   "metadata": {},
   "outputs": [],
   "source": [
    "#load the XML classifiers\n",
    "face_cascade = cv2.CascadeClassifier(r'C:\\Users\\hasna\\Anaconda3\\Lib\\site-packages\\cv2\\data\\haarcascade_frontalface_default.xml')\n",
    "\n",
    "#indicoio api key\n",
    "ind.config.api_key = 'aa542289fe0643a1335333e7c9bec937'"
   ]
  },
  {
   "cell_type": "code",
   "execution_count": 26,
   "metadata": {},
   "outputs": [],
   "source": [
    "#note: frame sampling occurred at 1 frame every 3 seconds\n",
    "#input paths\n",
    "\n",
    "list_of_movies = ['Buddy', 'Machete', 'Walter', 'ParanormalActivity', 'TheHungerGames-CatchingFire']\n",
    "buddy_no_of_frames = 1817\n",
    "machete_no_of_frames = 2161\n",
    "walter_no_of_frames = 2292\n",
    "paranormalactivity_no_of_frames = 2022\n",
    "hungergames_no_of_frames = 2925\n",
    "\n",
    "\n",
    "buddy_frame_list = list()\n",
    "for j in range(1,buddy_no_of_frames+1):\n",
    "    number = '{:04d}'.format(j)\n",
    "    filename = '\\\\Buddy_' + str(number) + '.jpg'\n",
    "    input_path = 'C:\\\\Users\\\\hasna\\\\Desktop\\\\Smell of Fear\\\\Movie Frames\\\\Buddy' + filename\n",
    "    buddy_frame_list.append(input_path) \n",
    "\n",
    "\n",
    "machete_frame_list = list()\n",
    "for j in range(1,machete_no_of_frames+1):\n",
    "    number = '{:04d}'.format(j)\n",
    "    filename = '\\\\Machete_' + str(number) + '.jpg'\n",
    "    input_path = 'C:\\\\Users\\\\hasna\\\\Desktop\\\\Smell of Fear\\\\Movie Frames\\\\Machete' + filename\n",
    "    machete_frame_list.append(input_path) \n",
    "\n",
    "\n",
    "walter_frame_list = list()\n",
    "for j in range(1,walter_no_of_frames+1):\n",
    "    number = '{:04d}'.format(j)\n",
    "    filename = '\\\\Walter_' + str(number) + '.jpg'\n",
    "    input_path = 'C:\\\\Users\\\\hasna\\\\Desktop\\\\Smell of Fear\\\\Movie Frames\\\\Walter' + filename\n",
    "    walter_frame_list.append(input_path) \n",
    "    \n",
    "\n",
    "paranormalactivity_frame_list = list()\n",
    "for j in range(1,paranormalactivity_no_of_frames+1):\n",
    "    number = '{:04d}'.format(j)\n",
    "    filename = '\\\\ParanormalActivity_' + str(number) + '.jpg'\n",
    "    input_path = 'C:\\\\Users\\\\hasna\\\\Desktop\\\\Smell of Fear\\\\Movie Frames\\\\ParanormalActivity' + filename\n",
    "    paranormalactivity_frame_list.append(input_path) \n",
    "\n",
    "    \n",
    "hungergames_frame_list = list()\n",
    "for j in range(1,hungergames_no_of_frames+1):\n",
    "    number = '{:04d}'.format(j)\n",
    "    filename = '\\\\TheHungerGames_' + str(number) + '.jpg'\n",
    "    input_path = 'C:\\\\Users\\\\hasna\\\\Desktop\\\\Smell of Fear\\\\Movie Frames\\\\HungerGames' + filename\n",
    "    hungergames_frame_list.append(input_path) "
   ]
  },
  {
   "cell_type": "code",
   "execution_count": 27,
   "metadata": {},
   "outputs": [],
   "source": [
    "for i in range(0,len(buddy_frame_list)):\n",
    "    img = cv2.imread(buddy_frame_list[i])\n",
    "    buddy_frame_list[i] = img"
   ]
  },
  {
   "cell_type": "code",
   "execution_count": 28,
   "metadata": {},
   "outputs": [],
   "source": [
    "#1 frame every 3 seconds thus 10 frames is 30s of runtime\n",
    "#'movie'_list = each element contains the list of frames in 30s \n",
    "counter = 0\n",
    "temp = list()\n",
    "buddy_list= list()\n",
    "for i in range(0,len(buddy_frame_list)):\n",
    "    temp.append(buddy_frame_list[i])\n",
    "    counter = counter + 1\n",
    "    if counter > 9:\n",
    "        buddy_list.append(temp)\n",
    "        temp = list()\n",
    "        counter = 0\n",
    "    elif i == (len(buddy_frame_list)-1):\n",
    "        buddy_list.append(temp)\n",
    "    "
   ]
  },
  {
   "cell_type": "code",
   "execution_count": 29,
   "metadata": {},
   "outputs": [],
   "source": [
    "buddy_facelist = list()\n",
    "face_no = 0\n",
    "for i in range(0, len(buddy_list)):\n",
    "    \n",
    "    frame_interval = buddy_list[i]\n",
    "    face_list = list() \n",
    "    for j in range(0, len(frame_interval)):\n",
    "        img = frame_interval[j]\n",
    "        #convert frame to greyscale\n",
    "        gray = cv2.cvtColor(img,cv2.COLOR_BGR2GRAY)\n",
    "        #find the faces in the image\n",
    "        #if faces are found return the position of the face as Rect(x,y,w,h)\n",
    "\n",
    "        faces = face_cascade.detectMultiScale(gray,1.1,15)\n",
    "        #1.3 is a scale factor. Specifies how much each image is reduced. In this case reduce image size by 30%\n",
    "        #5 is the minNeighbours parameter. Specifies how many neighbours each candidate rectangle should retain. This \n",
    "        #parameter will affect the quality of detected faces: the higher the value results in less detections but with a\n",
    "        #higher quality of detection. \n",
    "\n",
    "        for (x,y,w,h) in faces:\n",
    "            roi_color = img[y:y+h, x:x+w]\n",
    "            face_list.append(roi_color)\n",
    "            #save face detected\n",
    "            input_path = 'C:\\\\Users\\\\hasna\\\\Desktop\\\\Smell of Fear\\\\ROI Faces\\\\'\n",
    "            face_no += 1\n",
    "            filename = 'Paranormal_IntervalNo' + str(face_no) + '.jpg'\n",
    "            input_path = input_path + filename\n",
    "            cv2.imwrite(input_path, roi_color)\n",
    "        \n",
    "    buddy_facelist.append(face_list)\n",
    "            "
   ]
  },
  {
   "cell_type": "code",
   "execution_count": 30,
   "metadata": {},
   "outputs": [
    {
     "data": {
      "text/plain": [
       "182"
      ]
     },
     "execution_count": 30,
     "metadata": {},
     "output_type": "execute_result"
    }
   ],
   "source": [
    "len(buddy_facelist)"
   ]
  },
  {
   "cell_type": "code",
   "execution_count": null,
   "metadata": {
    "scrolled": true
   },
   "outputs": [],
   "source": [
    "buddy_emotion_list = list()\n",
    "\n",
    "for i in range(0,len(buddy_facelist)):\n",
    "    frame_interval = buddy_facelist[i]\n",
    "    temp = list()\n",
    "    for j in range(0,len(frame_interval)):\n",
    "        frame = frame_interval[j]\n",
    "        emotion = ind.fer(frame)\n",
    "        temp.append(emotion)\n",
    "        \n",
    "    buddy_emotion_list.append(temp)\n",
    "    \n",
    "        "
   ]
  },
  {
   "cell_type": "code",
   "execution_count": null,
   "metadata": {},
   "outputs": [],
   "source": [
    "#send images to api\n",
    "\n",
    "#emotion = ind.fer(face_list)\n"
   ]
  },
  {
   "cell_type": "code",
   "execution_count": null,
   "metadata": {},
   "outputs": [],
   "source": [
    "buddy_emotion_list"
   ]
  },
  {
   "cell_type": "code",
   "execution_count": 22,
   "metadata": {},
   "outputs": [],
   "source": [
    "pickle.dump(buddy_emotion_list, open('buddy_emotion_list.p', 'wb'))"
   ]
  },
  {
   "cell_type": "code",
   "execution_count": null,
   "metadata": {},
   "outputs": [],
   "source": []
  }
 ],
 "metadata": {
  "kernelspec": {
   "display_name": "Python 3",
   "language": "python",
   "name": "python3"
  },
  "language_info": {
   "codemirror_mode": {
    "name": "ipython",
    "version": 3
   },
   "file_extension": ".py",
   "mimetype": "text/x-python",
   "name": "python",
   "nbconvert_exporter": "python",
   "pygments_lexer": "ipython3",
   "version": "3.7.0"
  }
 },
 "nbformat": 4,
 "nbformat_minor": 2
}
